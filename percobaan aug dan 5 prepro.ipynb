{
 "cells": [
  {
   "cell_type": "markdown",
   "metadata": {},
   "source": [
    "### Import Library yang Dibutuhkan"
   ]
  },
  {
   "cell_type": "code",
   "execution_count": 9,
   "metadata": {},
   "outputs": [],
   "source": [
    "import os\n",
    "import cv2 as cv\n",
    "import matplotlib.pyplot as plt\n",
    "import numpy as np\n",
    "import pandas as pd\n",
    "from sklearn.model_selection import train_test_split, cross_val_predict\n",
    "from sklearn.metrics import accuracy_score, classification_report\n",
    "from skimage.feature import graycomatrix, graycoprops\n",
    "from scipy.stats import entropy\n",
    "from sklearn.ensemble import RandomForestClassifier\n",
    "from sklearn.svm import SVC\n",
    "from sklearn.neighbors import KNeighborsClassifier\n",
    "from sklearn.metrics import accuracy_score, precision_score, recall_score, f1_score, confusion_matrix, classification_report\n",
    "from sklearn.metrics import (confusion_matrix, ConfusionMatrixDisplay)\n",
    "from sklearn.feature_selection import SelectKBest, f_classif\n",
    "import seaborn as sns"
   ]
  },
  {
   "cell_type": "markdown",
   "metadata": {},
   "source": [
    "Kode di atas berfungsi untuk mengimpor berbagai library Python yang esensial, masing-masing dengan peran spesifik sendiri:\n",
    "\n",
    "* Script `import os` digunakan untuk mengimpor library `os` yang digunakan dalam pengelolaan file dan direktori, seperti membaca nama file dalam folder atau membuat path file secara dinamis.\n",
    "\n",
    "* Script `import cv2 as cv` digunakan untuk mengimpor library OpenCV yang berfungsi dalam pengolahan citra dan video, seperti membaca gambar, mengubah ukuran, atau mengaplikasikan filter.\n",
    "\n",
    "* Script `import matplotlib.pyplot as plt` digunakan untuk mengimpor library `matplotlib.pyplot` yang digunakan untuk membuat plot grafik dan visualisasi data, termasuk menampilkan gambar hasil pengolahan.\n",
    "\n",
    "* Script `import numpy as np` digunakan untuk mengimpor library Numpy sebagai alat bantu matematika, terutama untuk operasi numerik dan manipulasi array dalam pengolahan citra.\n",
    "\n",
    "* Script `import pandas as pd` digunakan untuk mengimpor library Pandas yang digunakan untuk membaca dan mengolah data dalam bentuk tabel atau dataframe, sering digunakan dalam pengelolaan dataset.\n",
    "\n",
    "* Script `from sklearn.model_selection import train_test_split, cross_val_predict` digunakan untuk mengimpor fungsi `train_test_split` dan `cross_val_predict` yang digunakan untuk membagi data menjadi data latih dan uji serta melakukan validasi silang dalam pelatihan model.\n",
    "\n",
    "* Script `from sklearn.metrics import accuracy_score, classification_report` digunakan untuk mengimpor fungsi evaluasi `accuracy_score` dan `classification_report` yang digunakan untuk mengukur akurasi model dan memberikan ringkasan hasil klasifikasi.\n",
    "\n",
    "* Script `from skimage.feature import graycomatrix, graycoprops` digunakan untuk mengimpor fungsi dari `skimage.feature` yang digunakan untuk menghitung matriks ko-ocurrence tingkat abu-abu dan properti tekstur dari citra.\n",
    "\n",
    "* Script `from scipy.stats import entropy` digunakan untuk mengimpor fungsi `entropy` dari `scipy.stats` yang digunakan untuk menghitung nilai entropi sebagai ukuran kompleksitas informasi pada citra.\n",
    "\n",
    "* Script `from sklearn.ensemble import RandomForestClassifier` digunakan untuk mengimpor algoritma `RandomForestClassifier` dari sklearn yang digunakan untuk klasifikasi berbasis banyak pohon keputusan.\n",
    "\n",
    "* Script `from sklearn.svm import SVC` digunakan untuk mengimpor algoritma `SVC` (Support Vector Classifier) dari sklearn yang digunakan untuk klasifikasi berbasis pemisahan hyperplane.\n",
    "\n",
    "* Script `from sklearn.neighbors import KNeighborsClassifier` digunakan untuk mengimpor algoritma `KNeighborsClassifier` dari sklearn yang digunakan untuk klasifikasi berdasarkan kedekatan data (jarak tetangga terdekat).\n",
    "\n",
    "* Script `from sklearn.metrics import accuracy_score, precision_score, recall_score, f1_score, confusion_matrix, classification_report` digunakan untuk mengimpor berbagai metrik evaluasi performa model klasifikasi, seperti akurasi, presisi, recall, f1-score, dan confusion matrix.\n",
    "\n",
    "* Script `from sklearn.metrics import (confusion_matrix, ConfusionMatrixDisplay)` digunakan untuk mengimpor fungsi `confusion_matrix` dan `ConfusionMatrixDisplay` untuk menghitung dan menampilkan visualisasi confusion matrix hasil klasifikasi.\n",
    "\n",
    "* Script `import seaborn as sns` digunakan untuk mengimpor library `seaborn` yang digunakan untuk visualisasi data yang lebih informatif dan menarik, terutama dalam menampilkan heatmap dan grafik statistik lainnya."
   ]
  },
  {
   "cell_type": "markdown",
   "metadata": {},
   "source": [
    "### Fungsi Resize"
   ]
  },
  {
   "cell_type": "code",
   "execution_count": 10,
   "metadata": {},
   "outputs": [],
   "source": [
    "def resize(image, new_width, new_height):\n",
    "    old_height = image.shape[0]\n",
    "    old_width = image.shape[1]\n",
    "\n",
    "    if len(image.shape) == 3:\n",
    "        channels = image.shape[2]\n",
    "        resized_image = np.zeros((new_height, new_width, channels), dtype=image.dtype)\n",
    "    else:\n",
    "        resized_image = np.zeros((new_height, new_width), dtype=image.dtype)\n",
    "\n",
    "    scale_x = old_width / new_width\n",
    "    scale_y = old_height / new_height\n",
    "\n",
    "    for y in range(new_height):\n",
    "        for x in range(new_width):\n",
    "            src_x = int(round(x * scale_x))\n",
    "            src_y = int(round(y * scale_y))\n",
    "\n",
    "            src_x = min(src_x, old_width - 1)\n",
    "            src_y = min(src_y, old_height - 1)\n",
    "            \n",
    "            resized_image[y, x] = image[src_y, src_x]\n",
    "\n",
    "    return resized_image"
   ]
  },
  {
   "cell_type": "markdown",
   "metadata": {},
   "source": [
    "Kode di atas fungsi `resize(image, new_width, new_height)` yang digunakan untuk mengubah ukuran gambar secara manual dengan metode interpolasi tetangga terdekat (nearest neighbor interpolation). Fungsi ini pertama-tama mengambil tinggi dan lebar gambar asli, lalu menentukan apakah gambar tersebut berwarna (memiliki tiga channel seperti RGB) atau grayscale. Berdasarkan informasi tersebut, dibuat array kosong sebagai tempat gambar hasil resize dengan ukuran baru. Kemudian, skala horizontal (`scale_x`) dan vertikal (`scale_y`) dihitung berdasarkan perbandingan ukuran lama dan ukuran baru. Fungsi ini menggunakan dua perulangan bersarang untuk mengisi setiap piksel pada gambar baru. Untuk setiap piksel, dihitung posisi piksel asal pada gambar lama dengan mengalikan indeks baru dengan skala, lalu dibulatkan ke indeks terdekat. Nilai dari piksel terdekat pada gambar asli tersebut kemudian disalin ke posisi piksel baru. Proses ini memastikan bahwa gambar dapat diubah ukurannya tanpa menggunakan fungsi built-in seperti `cv2.resize`, dan pada akhirnya fungsi akan mengembalikan citra hasil perubahan ukuran."
   ]
  },
  {
   "cell_type": "markdown",
   "metadata": {},
   "source": [
    "## Ambil Data"
   ]
  },
  {
   "cell_type": "markdown",
   "metadata": {},
   "source": [
    "Struktur folder dataset sebagai berikut:\n",
    "```\n",
    ".\n",
    "└──Dog\n",
    "    ├── label1\n",
    "    ├   ├── image1.jpg\n",
    "    ├   ├── image2.jpg\n",
    "    ├   ├── image3.jpg\n",
    "    ├   └── dst..\n",
    "    ├── label2\n",
    "    ├── label3\n",
    "    └── label4\n",
    "```"
   ]
  },
  {
   "cell_type": "code",
   "execution_count": 11,
   "metadata": {},
   "outputs": [],
   "source": [
    "data = []\n",
    "labels = []\n",
    "file_name = []\n",
    "for sub_folder in os.listdir(\"Dogs\\\\\"):\n",
    "    sub_folder_files = os.listdir(os.path.join(\"Dogs\\\\\", sub_folder))\n",
    "    for i, filename in enumerate(sub_folder_files):\n",
    "        img_path = os.path.join(\"Dogs\\\\\", sub_folder, filename)\n",
    "        img = cv.imread(img_path)\n",
    "        img = img.astype(np.uint8)\n",
    "        img = resize(img, 256, 256)\n",
    "        img = cv.cvtColor(img, cv.COLOR_BGR2GRAY)\n",
    "        \n",
    "        data.append(img)\n",
    "        labels.append(sub_folder)\n",
    "        name = os.path.splitext(filename)[0]\n",
    "        file_name.append(filename)\n",
    "        \n",
    "data = np.array(data)\n",
    "labels = np.array(labels)\n"
   ]
  },
  {
   "cell_type": "markdown",
   "metadata": {},
   "source": [
    "Kode di atas digunakan untuk membaca dan memproses gambar dari folder dataset bernama \"Dogs\". Pertama, tiga list kosong disiapkan, yaitu `data` untuk menyimpan citra, `labels` untuk menyimpan label atau nama sub-folder (yang merepresentasikan kelas anjing), dan `file_name` untuk menyimpan nama file gambar. Program kemudian melakukan iterasi pada setiap sub-folder di dalam direktori \"Dogs\", di mana setiap sub-folder dianggap sebagai satu kelas. Untuk setiap file gambar dalam sub-folder tersebut, program menyusun path lengkap gambar, membaca gambar menggunakan `cv.imread()`, lalu memastikan tipe datanya adalah `uint8` agar sesuai dengan format citra. Selanjutnya, gambar diubah ukurannya menjadi 256x256 piksel menggunakan fungsi `resize()`, dan kemudian dikonversi ke format grayscale dengan `cv.cvtColor()`. Setelah itu, gambar grayscale yang telah diproses dimasukkan ke dalam list `data`, label kelasnya dimasukkan ke dalam `labels`, dan nama file disimpan di `file_name`. Terakhir, list `data` dan `labels` diubah menjadi array NumPy agar lebih efisien digunakan dalam proses machine learning atau pemrosesan lanjutan."
   ]
  },
  {
   "cell_type": "markdown",
   "metadata": {},
   "source": [
    "#### Menampilkan Sampel Gambar dalam Grid Per Label"
   ]
  },
  {
   "cell_type": "markdown",
   "metadata": {},
   "source": [
    "Kode di bawah secara otomatis menyesuaikan jumlah baris yang akan diplot berdasarkan jumlah label unik yang diminta (3 baris). Kemudian, untuk setiap label, skrip akan memilih 5 gambar acak dan menampilkannya di baris yang sesuai. Setiap gambar akan memiliki label kategorinya sebagai judul."
   ]
  },
  {
   "cell_type": "code",
   "execution_count": null,
   "metadata": {},
   "outputs": [],
   "source": [
    "rows_to_display = 3\n",
    "cols_to_display = 5\n",
    "num_samples_per_label = cols_to_display\n",
    "unique_labels = np.unique(labels)\n",
    "num_unique_labels = len(unique_labels)\n",
    "\n",
    "if num_unique_labels < rows_to_display:\n",
    "    print(f\"Peringatan: Hanya ditemukan {num_unique_labels} label unik. Tidak dapat membuat {rows_to_display} baris yang berbeda untuk label.\")\n",
    "    labels_for_display = unique_labels\n",
    "    actual_rows_plotted = num_unique_labels\n",
    "else:\n",
    "    labels_for_display = unique_labels[:rows_to_display]\n",
    "    actual_rows_plotted = rows_to_display\n",
    "\n",
    "\n",
    "plt.figure(figsize=(cols_to_display * 3, actual_rows_plotted * 3.5))\n",
    "\n",
    "current_subplot_index = 1\n",
    "for label_name in labels_for_display:\n",
    "    indices_for_label = np.where(labels == label_name)[0]\n",
    "    \n",
    "    num_available_for_label = len(indices_for_label)\n",
    "    \n",
    "    selected_indices = np.random.choice(\n",
    "        indices_for_label,\n",
    "        min(num_available_for_label, num_samples_per_label),\n",
    "        replace=(num_available_for_label < num_samples_per_label)\n",
    "    )\n",
    "    \n",
    "    for img_idx in selected_indices:\n",
    "        if current_subplot_index > (actual_rows_plotted * cols_to_display):\n",
    "            break\n",
    "\n",
    "        img_display = data[img_idx]\n",
    "        \n",
    "        plt.subplot(actual_rows_plotted, cols_to_display, current_subplot_index)\n",
    "        \n",
    "        if len(img_display.shape) == 3:\n",
    "            img_display_rgb = cv.cvtColor(img_display, cv.COLOR_BGR2RGB)\n",
    "            plt.imshow(img_display_rgb)\n",
    "        else:\n",
    "            plt.imshow(img_display, cmap='gray')\n",
    "            \n",
    "        plt.title(f'{label_name}', fontsize=10)\n",
    "        plt.axis('off')\n",
    "        \n",
    "        current_subplot_index += 1\n",
    "    \n",
    "    if current_subplot_index > (actual_rows_plotted * cols_to_display):\n",
    "        break\n",
    "\n",
    "plt.tight_layout(pad=1.5)\n",
    "plt.show()"
   ]
  },
  {
   "cell_type": "markdown",
   "metadata": {},
   "source": [
    "## Augmentasi Data"
   ]
  },
  {
   "cell_type": "markdown",
   "metadata": {},
   "source": [
    "### Fungsi Augmentasi yang Digunakan"
   ]
  },
  {
   "cell_type": "markdown",
   "metadata": {},
   "source": [
    "#### Fungsi Rotasi"
   ]
  },
  {
   "cell_type": "code",
   "execution_count": 12,
   "metadata": {},
   "outputs": [],
   "source": [
    "def rotasi(image, sudut):\n",
    "    height, width = image.shape[0], image.shape[1]\n",
    "    pusat_rotasi = np.array([width // 2, height // 2])\n",
    "    rad_rotasi = np.radians(sudut)\n",
    "    cosine = np.cos(rad_rotasi)\n",
    "    sine = np.sin(rad_rotasi)\n",
    "\n",
    "    citra_rotasi = np.zeros_like(image)\n",
    "\n",
    "    for x in range(height):\n",
    "        for y in range(width):\n",
    "            xp = int((x-pusat_rotasi[1]) * cosine - (y - pusat_rotasi[0]) * sine + pusat_rotasi[1])\n",
    "            yp = int((x - pusat_rotasi[0]) * sine + (y - pusat_rotasi[0]) * cosine + pusat_rotasi[0])\n",
    "            if 0 <= xp < height and 0 <= yp < width:\n",
    "                citra_rotasi[x,y] = image[xp, yp]   \n",
    "    return citra_rotasi"
   ]
  },
  {
   "cell_type": "markdown",
   "metadata": {},
   "source": [
    "Kode di atas fungsi `rotasi(image, sudut)` yang digunakan untuk melakukan rotasi (perputaran) citra sebesar sudut tertentu secara manual tanpa menggunakan fungsi built-in dari OpenCV. Pertama, tinggi dan lebar citra diambil, lalu titik tengah gambar dihitung sebagai pusat rotasi. Sudut rotasi yang diberikan dalam derajat dikonversi ke radian karena fungsi trigonometri pada NumPy (`cos` dan `sin`) menggunakan radian. Matriks citra kosong dengan ukuran yang sama seperti gambar asli dibuat sebagai wadah untuk hasil rotasi. Kemudian dilakukan iterasi terhadap setiap piksel `(x, y)` pada gambar asli. Untuk setiap piksel, dihitung koordinat barunya `(xp, yp)` menggunakan rumus transformasi rotasi dengan pusat di tengah gambar. Hasil koordinat baru digunakan untuk mengambil nilai piksel dari posisi lama dan menempatkannya di posisi baru jika masih berada dalam batas citra. Jika posisi hasil transformasi valid, maka nilai piksel pada koordinat `(xp, yp)` diambil dari citra asli dan diisikan ke posisi `(x, y)` pada gambar hasil rotasi. Fungsi ini akhirnya mengembalikan gambar yang telah diputar sesuai sudut yang diberikan."
   ]
  },
  {
   "cell_type": "markdown",
   "metadata": {},
   "source": [
    "#### Proses Augmentasi Data Gambar"
   ]
  },
  {
   "cell_type": "code",
   "execution_count": 13,
   "metadata": {},
   "outputs": [],
   "source": [
    "\n",
    "data_augmented = list(data) \n",
    "labels_augmented = list(labels) \n",
    "file_name_augmented = list(file_name) \n",
    "\n",
    "for i in range(len(data)):\n",
    "    img = data[i]\n",
    "    label = labels[i]\n",
    "    original_filename = file_name[i]\n",
    "\n",
    "    rows, cols = img.shape\n",
    "    center_x, center_y = cols / 2, rows / 2\n",
    "\n",
    "\n",
    "    angles = [-30, -25, -20, -15, -10, -5, 5, 10, 15, 20, 25, 30] \n",
    "    for angle_deg in angles:\n",
    "        rotated_img = rotasi(img, angle_deg)\n",
    "        \n",
    "        data_augmented.append(rotated_img)\n",
    "        labels_augmented.append(label)\n",
    "        file_name_augmented.append(f\"{original_filename}_rot{angle_deg}.jpg\")\n",
    "\n",
    "    flipped_h = img[::-1, :]\n",
    "    data_augmented.append(flipped_h)\n",
    "    labels_augmented.append(label)\n",
    "    file_name_augmented.append(f\"{original_filename}_flipH.jpg\")\n",
    "\n",
    "    flipped_v = img[:, ::-1]\n",
    "    data_augmented.append(flipped_v)\n",
    "    labels_augmented.append(label)\n",
    "    file_name_augmented.append(f\"{original_filename}_flipV.jpg\")\n",
    "\n",
    "data_augmented = np.array(data_augmented)\n",
    "labels_augmented = np.array(labels_augmented)\n",
    "file_name_augmented = np.array(file_name_augmented)"
   ]
  },
  {
   "cell_type": "markdown",
   "metadata": {},
   "source": [
    "Kode di atas digunakan untuk melakukan augmentasi data citra dengan tujuan memperbanyak variasi dataset agar model machine learning yang dilatih menjadi lebih robust. Pertama, `data_augmented`, `labels_augmented`, dan `file_name_augmented` dibuat sebagai salinan dari data asli (`data`, `labels`, dan `file_name`) dalam bentuk list agar dapat ditambahkan elemen baru. Program kemudian melakukan perulangan untuk setiap gambar dalam dataset. Untuk setiap gambar, dilakukan proses augmentasi rotasi menggunakan daftar sudut rotasi tertentu, yaitu dari -30 hingga 30 derajat. Rotasi dilakukan dengan memanggil fungsi `rotasi()` yang telah didefinisikan sebelumnya, dan hasil citra rotasi tersebut ditambahkan ke `data_augmented`, bersama label aslinya dan nama file baru yang mencerminkan sudut rotasinya.\n",
    "\n",
    "Selain rotasi, dua jenis flipping (pembalikan) juga diterapkan: flipping horizontal (`flipped_h = img[::-1, :]`) membalik gambar dari atas ke bawah, sedangkan flipping vertikal (`flipped_v = img[:, ::-1]`) membalik dari kanan ke kiri. Kedua citra hasil flipping ini juga ditambahkan ke list data augmentasi beserta label dan nama file yang sesuai. Setelah semua augmentasi selesai, list `data_augmented`, `labels_augmented`, dan `file_name_augmented` diubah kembali menjadi array NumPy agar siap digunakan dalam pelatihan model klasifikasi. Proses ini membantu meningkatkan jumlah data pelatihan dengan variasi transformasi sederhana namun efektif."
   ]
  },
  {
   "cell_type": "markdown",
   "metadata": {},
   "source": [
    "#### Menampilkan Ukuran Data Sebelum dan Sesudah Augmentasi"
   ]
  },
  {
   "cell_type": "code",
   "execution_count": 14,
   "metadata": {},
   "outputs": [
    {
     "name": "stdout",
     "output_type": "stream",
     "text": [
      "Data sebelum augmentasi:  254\n",
      "Data setelah augmentasi:  3810\n"
     ]
    }
   ],
   "source": [
    "print(\"Data sebelum augmentasi: \", len(data))\n",
    "print(\"Data setelah augmentasi: \", len(data_augmented))"
   ]
  },
  {
   "cell_type": "markdown",
   "metadata": {},
   "source": [
    "Kode di atas digunakan untuk menampilkan jumlah data citra sebelum dan sesudah dilakukan proses augmentasi. Baris pertama mencetak jumlah gambar asli yang terdapat dalam dataset awal dengan menggunakan fungsi `len(data)`. Baris kedua mencetak jumlah total gambar setelah dilakukan augmentasi, seperti rotasi dan flipping, dengan menggunakan `len(data_augmented)`. Informasi ini berguna untuk memastikan bahwa proses augmentasi telah berhasil menambah jumlah data secara signifikan dan dapat menjadi acuan dalam analisis atau evaluasi performa model selanjutnya."
   ]
  },
  {
   "cell_type": "markdown",
   "metadata": {},
   "source": [
    "## Data Preparation"
   ]
  },
  {
   "cell_type": "markdown",
   "metadata": {},
   "source": [
    "### Fungsi Pra-pemrosesan Data"
   ]
  },
  {
   "cell_type": "code",
   "execution_count": 15,
   "metadata": {},
   "outputs": [],
   "source": [
    "def prepro1(img):\n",
    "    img = img.astype(np.uint8)\n",
    "    equalized_img = np.zeros_like(img)\n",
    "\n",
    "    frekuensi = np.zeros(256)\n",
    "\n",
    "    for i in range(img.shape[0]):\n",
    "        for j in range(img.shape[1]):\n",
    "            warna = img[i,j]\n",
    "            frekuensi[warna]+=1\n",
    "\n",
    "    pi = np.zeros_like(frekuensi)\n",
    "    for i in range(len(frekuensi)):\n",
    "        pi[i] = frekuensi[i]/(img.shape[0]*img.shape[1])\n",
    "\n",
    "    cdf = np.zeros_like(pi)\n",
    "    for i in range(len(pi)):\n",
    "        if(i == 0):\n",
    "            cdf[i] = pi[i]\n",
    "        else:\n",
    "            cdf[i] = cdf[i-1] + pi[i]\n",
    "    \n",
    "    sk = np.zeros_like(cdf)\n",
    "    sk = np.round(255 * cdf).astype(np.uint8)\n",
    "    \n",
    "    for i in range(img.shape[0]):\n",
    "        for j in range(img.shape[1]):\n",
    "            equalized_img[i,j] = sk[img[i,j]]\n",
    "    \n",
    "    return equalized_img\n",
    "\n",
    "def prepro2(image):\n",
    "    sharp = ([[1/9, 1/9, 1/9], \n",
    "            [1/9, 8/9, 1/9], \n",
    "            [1/9, 1/9, 1/9]])\n",
    "    kernel = np.array(sharp)\n",
    "\n",
    "    img_height, img_width = image.shape\n",
    "    kernel_height, kernel_width = kernel.shape\n",
    "    pad_height = kernel_height // 2\n",
    "    pad_width = kernel_width // 2\n",
    "\n",
    "    padded_img = np.pad(image, ((pad_height, pad_height), (pad_width, pad_width)), mode='constant')\n",
    "    result = np.zeros_like(image, dtype=np.float32)\n",
    "\n",
    "    for i in range(img_height):\n",
    "        for j in range(img_width):\n",
    "            region = padded_img[i:i+kernel_height, j:j+kernel_width]\n",
    "            result[i, j] = np.sum(region * kernel)\n",
    "\n",
    "    min_val = np.min(result)\n",
    "    max_val = np.max(result)\n",
    "\n",
    "    img_norm = (result - min_val) / (max_val - min_val)\n",
    "    return (img_norm * 255).astype(np.uint8)\n",
    "\n",
    "def cari_median(array):\n",
    "    i = len(array)\n",
    "    baris_array = sorted(array)\n",
    "    if i % 2 == 0:\n",
    "        kiri = baris_array[i//2]\n",
    "        kanan = baris_array[i//2 - 1]\n",
    "        cari_median = (kiri + kanan)/2\n",
    "    else:\n",
    "        cari_median = baris_array[i//2]\n",
    "        \n",
    "    return cari_median\n",
    "\n",
    "def prepro3(image):\n",
    "    size = 3\n",
    "    pad = np.pad(image, ((size//2, size//2), (size//2, size//2)), mode='constant', constant_values=0)\n",
    "    \n",
    "    result = np.zeros(image.shape).astype(int)\n",
    "    panjang, lebar = image.shape\n",
    "\n",
    "    for i in range(panjang):\n",
    "        for j in range(lebar):\n",
    "            temp = np.zeros(size * size)\n",
    "            indeks = 0\n",
    "            for k in range(size):\n",
    "                for l in range(size):\n",
    "                    temp[indeks] += pad[i+k,j+l]\n",
    "                    indeks+=1\n",
    "            result[i,j] = cari_median(temp)         \n",
    "    return result\n",
    "\n",
    "def prepro4(img):\n",
    "    kernelx = np.array([\n",
    "        [-1, 0, 1],\n",
    "        [-2, 0, 2],\n",
    "        [-1, 0, 1]\n",
    "    ])\n",
    "\n",
    "    kernely = np.array([\n",
    "        [-1, -2, -1],\n",
    "        [0,   0,  0],\n",
    "        [1,   2,  1]\n",
    "    ])\n",
    "\n",
    "    pad = kernelx.shape[0] // 2\n",
    "    img_padded = np.pad(img, ((pad, pad), (pad, pad)), mode='constant')\n",
    "\n",
    "    tinggi, lebar = img.shape\n",
    "    x = np.zeros((tinggi, lebar))\n",
    "    y = np.zeros((tinggi, lebar))\n",
    "    m = np.zeros((tinggi, lebar))\n",
    "\n",
    "    for i in range(tinggi):\n",
    "        for j in range(lebar):\n",
    "            region = img_padded[i:i+kernelx.shape[0], j:j+kernelx.shape[1]]\n",
    "            x[i, j] = np.sum(region * kernelx)\n",
    "            y[i, j] = np.sum(region * kernely)\n",
    "            m[i, j] = np.sqrt(x[i, j]**2 + y[i, j]**2)\n",
    "\n",
    "    min_val = np.min(m)\n",
    "    max_val = np.max(m)\n",
    "\n",
    "    img_norm = (m - min_val) / (max_val - min_val)\n",
    "    return (img_norm * 255).astype(np.uint8)\n",
    "\n",
    "def prepro5(img):\n",
    "    result = np.where(img > 20, 255, 0).astype(np.uint8)\n",
    "    return result"
   ]
  },
  {
   "cell_type": "markdown",
   "metadata": {},
   "source": [
    "Kode di atas merupakan tahapan pra-pemrosesan citra yang bertujuan untuk meningkatkan kualitas atau menyesuaikan karakteristik gambar sebelum diekstraksi fitur atau diklasifikasikan. Fungsi `prepro1` melakukan *histogram equalization* secara manual, yang bertujuan untuk meningkatkan kontras gambar dengan meratakan distribusi intensitas piksel berdasarkan nilai *Cumulative Distribution Function (CDF)*. Selanjutnya, `prepro2` menerapkan filter penajaman (*sharpening*) menggunakan kernel konvolusi untuk menonjolkan tepi dan detail dalam citra. Fungsi `prepro3` menerapkan *median filtering* untuk menghilangkan noise, terutama noise impulsif seperti *salt and pepper*, dengan mengganti nilai piksel dengan nilai median dari lingkungan sekitarnya. Fungsi `prepro4` melakukan deteksi tepi menggunakan operator Sobel pada arah x dan y, menghasilkan peta gradien dari tepi objek yang kemudian dinormalisasi agar skala intensitasnya seragam. Terakhir, `prepro5` melakukan segmentasi biner berdasarkan ambang batas (thresholding), yaitu menetapkan piksel bernilai lebih dari 20 menjadi 255 (putih) dan sisanya menjadi 0 (hitam), sehingga hanya objek terang yang disorot. Rangkaian fungsi ini penting untuk memperjelas struktur dan kontur objek dalam citra agar analisis lebih akurat."
   ]
  },
  {
   "cell_type": "markdown",
   "metadata": {},
   "source": [
    "### Pra-pemrosesan"
   ]
  },
  {
   "cell_type": "markdown",
   "metadata": {},
   "source": [
    "#### Pra-pemrosesan Data dengan Kombinasi Fungsi"
   ]
  },
  {
   "cell_type": "code",
   "execution_count": null,
   "metadata": {},
   "outputs": [],
   "source": [
    "all_processed_stages = []\n",
    "dataPreprocessed = []o\n",
    "\n",
    "for i in range(len(data_augmented)):\n",
    "    img = data_augmented[i]\n",
    "    current_stages = {\"Original\": img.copy()}\n",
    "\n",
    "    img_proc = prepro1(img)\n",
    "    current_stages[\"prepro1\"] = img_proc.copy()\n",
    "\n",
    "    img_proc = prepro2(img_proc)\n",
    "    current_stages[\"prepro2\"] = img_proc.copy()\n",
    "\n",
    "    img_proc = prepro3(img_proc)\n",
    "    current_stages[\"prepro3\"] = img_proc.copy()\n",
    "\n",
    "    img_proc = prepro4(img_proc)\n",
    "    current_stages[\"prepro4\"] = img_proc.copy()\n",
    "\n",
    "    img_final_proc = prepro5(img_proc)\n",
    "    current_stages[\"prepro5\"] = img_final_proc.copy()\n",
    "\n",
    "    all_processed_stages.append(current_stages)\n",
    "    dataPreprocessed.append(img_final_proc.astype(np.uint8))"
   ]
  },
  {
   "cell_type": "markdown",
   "metadata": {},
   "source": [
    "Kode di atas digunakan untuk melakukan preprocessing pada seluruh dataset hasil augmentasi dengan menerapkan fungsi `prepro1`, yaitu ekualisasi histogram pada setiap gambar. Pertama, sebuah list kosong `dataPreprocessed` disiapkan untuk menampung gambar hasil preprocessing. Kemudian, program melakukan iterasi pada setiap gambar di dalam `data_augmented`. Untuk setiap gambar, fungsi `prepro1` dipanggil untuk memperbaiki kontras gambar dengan metode ekualisasi histogram secara manual. Hasil gambar yang telah diproses kemudian dikonversi ke tipe data `uint8` dan ditambahkan ke dalam list `dataPreprocessed`. Dengan cara ini, seluruh dataset yang telah diperbesar dengan augmentasi juga menjadi lebih siap dan optimal untuk digunakan dalam pelatihan model atau analisis lanjutan."
   ]
  },
  {
   "cell_type": "markdown",
   "metadata": {},
   "source": [
    "#### Menampilkan Sampel Gambar per Label dengan Evolusi Pra-pemrosesan"
   ]
  },
  {
   "cell_type": "markdown",
   "metadata": {},
   "source": [
    "Kode di bawah ini akan secara otomatis memilih 5 gambar dari setiap label unik di dataset Anda. Untuk setiap gambar yang dipilih, sebuah jendela plot baru akan muncul. Jendela ini akan menampilkan gambar aslinya di satu sisi, dan di sisi lain, evolusi gambar setelah melewati setiap fungsi pra-pemrosesan secara berurutan. Ini memungkinkan Anda melihat secara langsung bagaimana gambar berubah di setiap tahapan."
   ]
  },
  {
   "cell_type": "code",
   "execution_count": null,
   "metadata": {},
   "outputs": [],
   "source": [
    "um_samples_per_label = 5\n",
    "unique_labels = np.unique(labels)\n",
    "\n",
    "stage_titles = [\"Original\", \"prepro1\", \"prepro2\", \"prepro3\", \"prepro4\", \"prepro5\"]\n",
    "num_stages = len(stage_titles)\n",
    "\n",
    "print(f\"Memulai visualisasi... Akan menampilkan {num_samples_per_label} gambar per label.\")\n",
    "print(f\"Total figure yang akan muncul: {len(unique_labels) * num_samples_per_label} figure.\")\n",
    "print(f\"Setiap figure akan memiliki {num_stages} gambar (original + 5 tahap prepro).\")\n",
    "\n",
    "for label_name in unique_labels:\n",
    "    indices_for_label = np.where(labels == label_name)[0]\n",
    "    \n",
    "    num_available_for_label = len(indices_for_label)\n",
    "    selected_indices = np.random.choice(\n",
    "        indices_for_label, \n",
    "        min(num_available_for_label, num_samples_per_label), \n",
    "        replace=(num_available_for_label < num_samples_per_label)\n",
    "    )\n",
    "    \n",
    "    print(f\"\\nMenampilkan sampel untuk Label: {label_name}\")\n",
    "    for idx_sample in selected_indices:\n",
    "        current_image_stages = all_processed_stages[idx_sample]\n",
    "        \n",
    "        plt.figure(figsize=(num_stages * 4, 5))\n",
    "        plt.suptitle(f'Evolusi Pra-pemrosesan - Label: {label_name} (Gambar ID: {idx_sample})', fontsize=14, y=1.02)\n",
    "\n",
    "        for j, stage_title in enumerate(stage_titles):\n",
    "            img_to_plot = current_image_stages[stage_title]\n",
    "            \n",
    "            plt.subplot(1, num_stages, j + 1)\n",
    "            if len(img_to_plot.shape) == 3:\n",
    "                plt.imshow(cv.cvtColor(img_to_plot, cv.COLOR_BGR2RGB))\n",
    "            else:\n",
    "                plt.imshow(img_to_plot, cmap='gray')\n",
    "            \n",
    "            plt.title(stage_title, fontsize=10)\n",
    "            plt.axis('off')\n",
    "        \n",
    "        plt.tight_layout(rect=[0, 0, 1, 0.96])\n",
    "        plt.show()"
   ]
  },
  {
   "cell_type": "markdown",
   "metadata": {},
   "source": [
    "### Ekstraksi Fitur"
   ]
  },
  {
   "cell_type": "markdown",
   "metadata": {},
   "source": [
    "#### Fungsi Ekstraksi Fitur GLCM"
   ]
  },
  {
   "cell_type": "code",
   "execution_count": null,
   "metadata": {},
   "outputs": [],
   "source": [
    "def glcm(image, derajat):\n",
    "    if derajat == 0:\n",
    "        angles = [0]\n",
    "    elif derajat == 45:\n",
    "        angles = [np.pi / 4]\n",
    "    elif derajat == 90:\n",
    "        angles = [np.pi / 2]\n",
    "    elif derajat == 135:\n",
    "        angles = [3 * np.pi / 4]\n",
    "    else:\n",
    "        raise ValueError(\"Invalid angle. It should be one of the following: 0, 45, 90, 135.\")\n",
    "    \n",
    "    glcm = graycomatrix(image, [1], angles, 256, symmetric=True, normed=True)\n",
    "    return glcm"
   ]
  },
  {
   "cell_type": "markdown",
   "metadata": {},
   "source": [
    "Kode di atas fungsi `glcm(image, derajat)` yang digunakan untuk menghasilkan matriks co-occurrence tingkat abu-abu (Gray-Level Co-occurrence Matrix atau GLCM) dari sebuah citra grayscale pada sudut rotasi tertentu. Fungsi ini menerima dua parameter, yaitu `image` yang merupakan citra input dan `derajat` yang menentukan arah sudut pengukuran GLCM dalam derajat (hanya menerima nilai 0, 45, 90, atau 135). Berdasarkan nilai sudut tersebut, fungsi mengonversi derajat ke radian yang sesuai, karena fungsi `graycomatrix` dari pustaka `skimage` menggunakan radian untuk mendefinisikan arah. Jika sudut yang diberikan tidak valid, fungsi akan menampilkan error. Selanjutnya, fungsi `graycomatrix` dipanggil dengan jarak piksel 1 dan sudut yang telah ditentukan, serta parameter `symmetric=True` dan `normed=True` agar matriks GLCM simetris dan ternormalisasi. Matriks GLCM ini mengukur seberapa sering pasangan intensitas piksel tertentu muncul dalam arah dan jarak tertentu, yang kemudian dapat digunakan untuk ekstraksi fitur tekstur dalam analisis citra. Fungsi akhirnya mengembalikan matriks GLCM yang dihasilkan tersebut."
   ]
  },
  {
   "cell_type": "markdown",
   "metadata": {},
   "source": [
    "#### Fungsi Ekstraksi Fitur Korelasi"
   ]
  },
  {
   "cell_type": "code",
   "execution_count": null,
   "metadata": {},
   "outputs": [],
   "source": [
    "def correlation(matriks):\n",
    "\treturn graycoprops(matriks, 'correlation')[0, 0]"
   ]
  },
  {
   "cell_type": "markdown",
   "metadata": {},
   "source": [
    "Kode di atas fungsi `correlation(matriks)` yang digunakan untuk menghitung nilai fitur tekstur korelasi dari matriks Gray-Level Co-occurrence Matrix (GLCM) yang diberikan sebagai input. Fungsi ini memanfaatkan metode `graycoprops` dari pustaka `skimage.feature`, yang secara khusus dapat mengekstrak berbagai properti tekstur dari matriks GLCM. Parameter `'correlation'` yang dipilih menunjukkan bahwa fungsi akan mengambil nilai korelasi, yang mengukur sejauh mana intensitas piksel berhubungan atau berkorelasi satu sama lain dalam pola tekstur citra. Hasil yang dikembalikan berupa sebuah matriks, sehingga fungsi ini mengambil elemen `[0, 0]` sebagai nilai korelasi tunggal yang relevan untuk citra yang dianalisis. Nilai korelasi ini penting dalam analisis citra karena dapat menggambarkan struktur tekstur dan pola keteraturan dalam gambar."
   ]
  },
  {
   "cell_type": "markdown",
   "metadata": {},
   "source": [
    "#### Fungsi Ekstraksi Fitur Disimilaritas"
   ]
  },
  {
   "cell_type": "code",
   "execution_count": null,
   "metadata": {},
   "outputs": [],
   "source": [
    "def dissimilarity(matriks):\n",
    "    return graycoprops(matriks, 'dissimilarity')[0, 0]"
   ]
  },
  {
   "cell_type": "markdown",
   "metadata": {},
   "source": [
    "Kode di atas fungsi `dissimilarity(matriks)` yang digunakan untuk menghitung nilai fitur tekstur dissimilarity dari matriks Gray-Level Co-occurrence Matrix (GLCM) yang diberikan. Fungsi ini memanfaatkan metode `graycoprops` dari pustaka `skimage.feature` untuk mengekstrak properti tekstur dari GLCM. Dengan memilih parameter `'dissimilarity'`, fungsi ini mengukur seberapa berbeda intensitas piksel satu dengan yang lain pada pasangan piksel yang berdekatan dalam citra. Nilai yang dikembalikan berupa sebuah matriks, sehingga fungsi mengambil elemen `[0, 0]` sebagai nilai dissimilarity yang relevan untuk citra tersebut. Fitur dissimilarity ini penting dalam analisis tekstur karena menggambarkan tingkat variasi atau ketidaksamaan antara piksel-piksel dalam gambar, yang dapat membantu dalam membedakan pola atau objek dalam citra."
   ]
  },
  {
   "cell_type": "markdown",
   "metadata": {},
   "source": [
    "#### Fungsi Ekstraksi Fitur Homogenitas"
   ]
  },
  {
   "cell_type": "code",
   "execution_count": null,
   "metadata": {},
   "outputs": [],
   "source": [
    "def homogenity(matriks):\n",
    "    return graycoprops(matriks, 'homogeneity')[0, 0]"
   ]
  },
  {
   "cell_type": "markdown",
   "metadata": {},
   "source": [
    "Kode di atas fungsi `homogenity(matriks)` digunakan untuk menghitung nilai fitur tekstur homogenitas dari matriks Gray-Level Co-occurrence Matrix (GLCM) yang diberikan sebagai input. Fungsi ini memanfaatkan metode `graycoprops` dari pustaka `skimage.feature` untuk mengekstrak berbagai properti tekstur dari GLCM. Dengan memilih parameter `'homogeneity'`, fungsi ini mengukur sejauh mana piksel-piksel dalam citra memiliki nilai intensitas yang serupa dan terdistribusi secara merata. Nilai yang dikembalikan berupa sebuah matriks, sehingga fungsi mengambil elemen `[0, 0]` sebagai nilai homogenitas tunggal yang relevan untuk citra tersebut. Fitur homogenitas ini penting dalam analisis citra karena memberikan gambaran tentang keseragaman tekstur, dimana nilai yang lebih tinggi menunjukkan tekstur yang lebih halus dan seragam."
   ]
  },
  {
   "cell_type": "markdown",
   "metadata": {},
   "source": [
    "#### Fungsi Ekstraksi Fitur Homogenitas"
   ]
  },
  {
   "cell_type": "code",
   "execution_count": null,
   "metadata": {},
   "outputs": [],
   "source": [
    "def contrast(matriks):\n",
    "    return graycoprops(matriks, 'contrast')[0, 0]"
   ]
  },
  {
   "cell_type": "markdown",
   "metadata": {},
   "source": [
    "Kode di atas fungsi `contrast(matriks)` digunakan untuk menghitung nilai fitur tekstur kontras dari matriks Gray-Level Co-occurrence Matrix (GLCM) yang diberikan sebagai input. Fungsi ini memanfaatkan metode `graycoprops` dari pustaka `skimage.feature` untuk mengekstrak properti tekstur dari GLCM. Dengan memilih parameter `'contrast'`, fungsi ini mengukur tingkat variasi intensitas antara piksel-piksel yang berdekatan dalam citra, yang menggambarkan seberapa besar perbedaan intensitas di dalam gambar. Nilai yang dikembalikan berupa sebuah matriks, sehingga fungsi mengambil elemen `[0, 0]` sebagai nilai kontras tunggal yang relevan untuk citra tersebut. Fitur kontras ini penting dalam analisis citra karena dapat menunjukkan seberapa tajam atau kasar tekstur dalam gambar, di mana nilai kontras yang lebih tinggi menunjukkan variasi intensitas yang lebih besar."
   ]
  },
  {
   "cell_type": "markdown",
   "metadata": {},
   "source": [
    "#### Fungsi Ekstraksi Fitur Angular Second Moment (ASM)"
   ]
  },
  {
   "cell_type": "code",
   "execution_count": null,
   "metadata": {},
   "outputs": [],
   "source": [
    "def ASM(matriks):\n",
    "    return graycoprops(matriks, 'ASM')[0, 0]"
   ]
  },
  {
   "cell_type": "markdown",
   "metadata": {},
   "source": [
    "Kode di atas Fungsi `ASM(matriks)` digunakan untuk menghitung nilai fitur tekstur Angular Second Moment (ASM) dari matriks Gray-Level Co-occurrence Matrix (GLCM) yang diberikan sebagai input. Fungsi ini memanfaatkan metode `graycoprops` dari pustaka `skimage.feature` untuk mengekstrak properti tekstur dari GLCM. Parameter `'ASM'` yang dipilih menunjukkan ukuran energi atau uniformitas tekstur pada citra, di mana nilai yang lebih tinggi mengindikasikan tekstur yang lebih seragam dan teratur. Fungsi mengembalikan sebuah matriks, sehingga elemen `[0, 0]` diambil sebagai nilai ASM yang relevan untuk citra tersebut. Fitur ASM ini penting dalam analisis citra karena memberikan informasi tentang konsistensi pola intensitas dan digunakan untuk membedakan jenis tekstur berdasarkan tingkat kehalusan atau kekasarannya."
   ]
  },
  {
   "cell_type": "markdown",
   "metadata": {},
   "source": [
    "#### Fungsi Ekstraksi Fitur Energi"
   ]
  },
  {
   "cell_type": "code",
   "execution_count": null,
   "metadata": {},
   "outputs": [],
   "source": [
    "def energy(matriks):\n",
    "    return graycoprops(matriks, 'energy')[0, 0]"
   ]
  },
  {
   "cell_type": "markdown",
   "metadata": {},
   "source": [
    "Kode di atas Fungsi `energy(matriks)` digunakan untuk menghitung nilai fitur tekstur energi dari matriks Gray-Level Co-occurrence Matrix (GLCM) yang diberikan sebagai input. Fungsi ini memanfaatkan metode `graycoprops` dari pustaka `skimage.feature` untuk mengekstrak properti tekstur dari GLCM. Parameter `'energy'` mengukur keseragaman tekstur dalam citra, yang merupakan akar kuadrat dari Angular Second Moment (ASM). Nilai energi yang lebih tinggi menunjukkan tekstur yang lebih seragam dan kurang bising, sedangkan nilai yang lebih rendah menunjukkan tekstur yang lebih kompleks atau bervariasi. Fungsi mengembalikan sebuah matriks, sehingga elemen `[0, 0]` diambil sebagai nilai energi tunggal yang relevan untuk citra tersebut. Fitur energi ini sering digunakan dalam pengolahan citra untuk mendeskripsikan konsistensi pola tekstur."
   ]
  },
  {
   "cell_type": "markdown",
   "metadata": {},
   "source": [
    "#### Fungsi Ekstraksi Fitur Entropi"
   ]
  },
  {
   "cell_type": "code",
   "execution_count": null,
   "metadata": {},
   "outputs": [],
   "source": [
    "def entropyGlcm(matriks):\n",
    "    return entropy(matriks.ravel())"
   ]
  },
  {
   "cell_type": "markdown",
   "metadata": {},
   "source": [
    "Kode di atas mendefinisikan fungsi `entropyGlcm(matriks)` yang digunakan untuk menghitung nilai entropi dari matriks Gray-Level Co-occurrence Matrix (GLCM) yang diberikan sebagai input. Entropi merupakan ukuran ketidakteraturan atau kompleksitas tekstur dalam citra, dimana nilai yang lebih tinggi menandakan tekstur yang lebih acak atau tidak teratur. Fungsi ini menggunakan metode `entropy` dari pustaka `scipy.stats` yang menghitung entropi dari data satu dimensi, sehingga matriks GLCM diubah terlebih dahulu menjadi array satu dimensi menggunakan metode `ravel()`. Dengan cara ini, fungsi dapat menghitung seberapa banyak informasi atau ketidakpastian yang terkandung dalam pola tekstur citra, yang berguna untuk analisis dan klasifikasi citra berbasis fitur tekstur."
   ]
  },
  {
   "cell_type": "markdown",
   "metadata": {},
   "source": [
    "#### Perhitungan GLCM"
   ]
  },
  {
   "cell_type": "code",
   "execution_count": null,
   "metadata": {},
   "outputs": [],
   "source": [
    "Derajat0 = []\n",
    "Derajat45 = []\n",
    "Derajat90 = []\n",
    "Derajat135 = []\n",
    "for i in range(len(dataPreprocessed)):\n",
    "    D0 = glcm(dataPreprocessed[i], 0)\n",
    "    D45 = glcm(dataPreprocessed[i], 45)\n",
    "    D90 = glcm(dataPreprocessed[i], 90)\n",
    "    D135 = glcm(dataPreprocessed[i], 135)\n",
    "    Derajat0.append(D0)\n",
    "    Derajat45.append(D45)\n",
    "    Derajat90.append(D90)\n",
    "    Derajat135.append(D135)"
   ]
  },
  {
   "cell_type": "markdown",
   "metadata": {},
   "source": [
    "Kode di atas bertujuan untuk menghitung matriks Gray-Level Co-occurrence Matrix (GLCM) pada empat sudut berbeda yaitu 0°, 45°, 90°, dan 135° untuk setiap citra yang telah dipreproses dalam `dataPreprocessed`. Proses ini dilakukan dengan menggunakan fungsi `glcm` yang sebelumnya sudah didefinisikan. Pada setiap iterasi, citra yang sedang diproses diambil dari list `dataPreprocessed`, lalu matriks GLCM dihitung untuk masing-masing sudut tersebut. Hasil matriks GLCM untuk sudut 0° disimpan ke dalam list `Derajat0`, untuk sudut 45° disimpan ke `Derajat45`, sudut 90° ke `Derajat90`, dan sudut 135° ke `Derajat135`. Dengan cara ini, setiap citra memiliki empat matriks GLCM yang berbeda yang dapat digunakan untuk ekstraksi fitur tekstur pada berbagai arah, sehingga memberikan informasi tekstur yang lebih komprehensif dari citra tersebut."
   ]
  },
  {
   "cell_type": "markdown",
   "metadata": {},
   "source": [
    "#### Inisialisasi List untuk Fitur GLCM"
   ]
  },
  {
   "cell_type": "code",
   "execution_count": null,
   "metadata": {},
   "outputs": [],
   "source": [
    "Kontras0, Kontras45, Kontras90, Kontras135 = [], [], [], []\n",
    "dissimilarity0, dissimilarity45, dissimilarity90, dissimilarity135 =  [], [], [], []\n",
    "homogenity0, homogenity45, homogenity90, homogenity135 = [], [], [], []\n",
    "entropy0, entropy45, entropy90, entropy135 =  [], [], [], []\n",
    "ASM0, ASM45, ASM90, ASM135 =  [], [], [], []\n",
    "energy0, energy45, energy90, energy135 =  [], [], [], []\n",
    "correlation0, correlation45, correlation90, correlation135 = [], [], [], []\n"
   ]
  },
  {
   "cell_type": "markdown",
   "metadata": {},
   "source": [
    "Kode di atas digunakan untuk membuat beberapa list kosong yang akan menyimpan nilai fitur tekstur hasil ekstraksi dari matriks Gray-Level Co-occurrence Matrix (GLCM) pada empat sudut berbeda, yaitu 0°, 45°, 90°, dan 135°. Fitur-fitur tersebut meliputi kontras, dissimilarity (perbedaan), homogenitas, entropi, Angular Second Moment (ASM), energi, dan korelasi. Setiap fitur memiliki empat list terpisah, masing-masing untuk menyimpan nilai hasil ekstraksi pada sudut yang berbeda. Dengan cara ini, data fitur tekstur dapat dikelompokkan berdasarkan sudut analisisnya, sehingga memudahkan proses analisis lebih lanjut, seperti pelatihan model klasifikasi atau evaluasi performa pengenalan pola citra."
   ]
  },
  {
   "cell_type": "markdown",
   "metadata": {},
   "source": [
    "#### Ekstraksi Fitur Korelasi dari GLCM"
   ]
  },
  {
   "cell_type": "code",
   "execution_count": null,
   "metadata": {},
   "outputs": [],
   "source": [
    "for i in range(len(dataPreprocessed)):\n",
    "    C0 = correlation(Derajat0[i])\n",
    "    correlation0.append(C0)\n",
    "    C45 = correlation(Derajat45[i])\n",
    "    correlation45.append(C45)\n",
    "    C90 = correlation(Derajat90[i])\n",
    "    correlation90.append(C90)\n",
    "    C135 = correlation(Derajat135[i])\n",
    "    correlation135.append(C135)\n",
    "    "
   ]
  },
  {
   "cell_type": "markdown",
   "metadata": {},
   "source": [
    "Kode di atas melakukan ekstraksi fitur tekstur korelasi dari setiap matriks Gray-Level Co-occurrence Matrix (GLCM) yang sudah dihitung untuk empat sudut berbeda (0°, 45°, 90°, dan 135°) pada setiap citra dalam `dataPreprocessed`. Pada setiap iterasi, fungsi `correlation` dipanggil untuk menghitung nilai korelasi dari matriks GLCM pada sudut tertentu. Nilai korelasi hasil perhitungan tersebut kemudian disimpan ke dalam list yang sesuai dengan sudutnya, seperti `correlation0` untuk sudut 0°, `correlation45` untuk sudut 45°, dan seterusnya. Proses ini dilakukan secara berulang untuk seluruh data sehingga menghasilkan kumpulan nilai fitur korelasi yang lengkap untuk setiap citra dan sudut analisis. Fitur korelasi ini penting karena menggambarkan hubungan linear antara intensitas piksel-piksel yang berdekatan dalam citra, yang berguna untuk mengenali pola tekstur."
   ]
  },
  {
   "cell_type": "markdown",
   "metadata": {},
   "source": [
    "#### Ekstraksi Fitur Kontras dari GLCM"
   ]
  },
  {
   "cell_type": "code",
   "execution_count": null,
   "metadata": {},
   "outputs": [],
   "source": [
    "for i in range(len(dataPreprocessed)):\n",
    "    K0 = contrast(Derajat0[i])\n",
    "    K45 = contrast(Derajat45[i])\n",
    "    K90 = contrast(Derajat90[i])\n",
    "    K135 = contrast(Derajat135[i])\n",
    "    Kontras0.append(K0)\n",
    "    Kontras45.append(K45)\n",
    "    Kontras90.append(K90)\n",
    "    Kontras135.append(K135)"
   ]
  },
  {
   "cell_type": "markdown",
   "metadata": {},
   "source": [
    "Kode di atas melakukan proses ekstraksi fitur tekstur kontras dari matriks Gray-Level Co-occurrence Matrix (GLCM) pada empat sudut berbeda yaitu 0°, 45°, 90°, dan 135° untuk setiap citra yang sudah dipreproses dalam `dataPreprocessed`. Fungsi `contrast` digunakan untuk menghitung nilai kontras dari setiap matriks GLCM pada sudut tertentu. Nilai kontras ini kemudian disimpan dalam list yang sesuai dengan sudutnya, yaitu `Kontras0` untuk sudut 0°, `Kontras45` untuk sudut 45°, `Kontras90` untuk sudut 90°, dan `Kontras135` untuk sudut 135°. Kontras merupakan fitur tekstur yang mengukur perbedaan intensitas antara piksel-piksel tetangga, sehingga memberikan informasi tentang tingkat variasi atau ketajaman pola tekstur pada citra. Kode ini mengulangi proses tersebut untuk seluruh data yang telah diproses agar menghasilkan kumpulan fitur kontras yang lengkap untuk setiap citra dan arah sudut analisisnya. Kode yang dikomentari sebelumnya menunjukkan pendekatan serupa, namun menggunakan data awal (`data`) sebelum preprocessing."
   ]
  },
  {
   "cell_type": "markdown",
   "metadata": {},
   "source": [
    "#### Ekstraksi Fitur Disimilaritas dari GLCM"
   ]
  },
  {
   "cell_type": "code",
   "execution_count": null,
   "metadata": {},
   "outputs": [],
   "source": [
    "for i in range(len(dataPreprocessed)):\n",
    "    Dis0 = dissimilarity(Derajat0[i])\n",
    "    Dis45 = dissimilarity(Derajat45[i])\n",
    "    Dis90 = dissimilarity(Derajat90[i])\n",
    "    Dis135 = dissimilarity(Derajat135[i])\n",
    "    dissimilarity0.append(Dis0)\n",
    "    dissimilarity45.append(Dis45)\n",
    "    dissimilarity90.append(Dis90)\n",
    "    dissimilarity135.append(Dis135)"
   ]
  },
  {
   "cell_type": "markdown",
   "metadata": {},
   "source": [
    "Kode di atas melakukan ekstraksi fitur tekstur dissimilarity dari matriks Gray-Level Co-occurrence Matrix (GLCM) pada empat sudut berbeda yaitu 0°, 45°, 90°, dan 135° untuk setiap citra yang sudah diproses dalam `dataPreprocessed`. Fungsi `dissimilarity` dipanggil untuk menghitung nilai dissimilarity pada masing-masing matriks GLCM pada sudut tertentu. Nilai dissimilarity ini kemudian disimpan ke dalam list yang sesuai dengan sudutnya, seperti `dissimilarity0` untuk sudut 0°, `dissimilarity45` untuk sudut 45°, dan seterusnya. Fitur dissimilarity mengukur seberapa besar perbedaan intensitas antara piksel-piksel yang berdekatan dalam citra, yang memberikan informasi tentang variasi tekstur. Proses ini diulang untuk seluruh citra dalam dataset sehingga diperoleh kumpulan nilai fitur dissimilarity yang lengkap dan siap digunakan untuk analisis atau klasifikasi citra berbasis tekstur. Bagian kode yang dikomentari sebelumnya menunjukkan pendekatan yang sama namun menggunakan data awal (`data`) sebelum preprocessing."
   ]
  },
  {
   "cell_type": "markdown",
   "metadata": {},
   "source": [
    "#### Ekstraksi Fitur Homogenitas dari GLCM"
   ]
  },
  {
   "cell_type": "code",
   "execution_count": null,
   "metadata": {},
   "outputs": [],
   "source": [
    "for i in range(len(dataPreprocessed)):\n",
    "    H0 = homogenity(Derajat0[i])\n",
    "    H45 = homogenity(Derajat45[i])\n",
    "    H90 = homogenity(Derajat90[i])\n",
    "    H135 = homogenity(Derajat135[i])\n",
    "    homogenity0.append(H0)\n",
    "    homogenity45.append(H45)\n",
    "    homogenity90.append(H90)\n",
    "    homogenity135.append(H135)"
   ]
  },
  {
   "cell_type": "markdown",
   "metadata": {},
   "source": [
    "Kode di atas digunakan untuk mengekstraksi fitur tekstur homogenity dari matriks Gray-Level Co-occurrence Matrix (GLCM) pada empat sudut berbeda, yaitu 0°, 45°, 90°, dan 135°, untuk setiap citra yang sudah melalui tahap preprocessing dan tersimpan dalam `dataPreprocessed`. Fungsi `homogenity` dipanggil pada setiap matriks GLCM sesuai sudutnya untuk menghitung nilai homogenitas. Nilai-nilai homogenitas hasil ekstraksi tersebut kemudian disimpan ke dalam list yang sesuai berdasarkan sudutnya, seperti `homogenity0` untuk sudut 0°, `homogenity45` untuk sudut 45°, dan seterusnya. Fitur homogenitas mengukur keseragaman intensitas piksel yang berdekatan, yang menunjukkan tingkat kehalusan atau kerapatan pola tekstur pada citra. Proses ini diulang untuk seluruh dataset sehingga diperoleh kumpulan nilai fitur homogenity yang lengkap dan siap digunakan untuk keperluan analisis atau klasifikasi citra. Bagian kode yang dikomentari menunjukkan pendekatan yang sama namun diterapkan pada data asli (`data`) sebelum preprocessing."
   ]
  },
  {
   "cell_type": "markdown",
   "metadata": {},
   "source": [
    "#### Ekstraksi Fitur Entropi dari GLCM"
   ]
  },
  {
   "cell_type": "code",
   "execution_count": null,
   "metadata": {},
   "outputs": [],
   "source": [
    "for i in range(len(dataPreprocessed)):\n",
    "    E0 = entropyGlcm(Derajat0[i])\n",
    "    E45 = entropyGlcm(Derajat45[i])\n",
    "    E90 = entropyGlcm(Derajat90[i])\n",
    "    E135 = entropyGlcm(Derajat135[i])\n",
    "    entropy0.append(E0)\n",
    "    entropy45.append(E45)\n",
    "    entropy90.append(E90)\n",
    "    entropy135.append(E135)\n"
   ]
  },
  {
   "cell_type": "markdown",
   "metadata": {},
   "source": [
    "Kode di atas berfungsi untuk mengekstraksi fitur entropy dari matriks Gray-Level Co-occurrence Matrix (GLCM) pada empat sudut berbeda, yaitu 0°, 45°, 90°, dan 135°, dari setiap citra yang sudah melalui proses preprocessing dan disimpan dalam variabel `dataPreprocessed`. Fungsi `entropyGlcm` digunakan untuk menghitung nilai entropi dari matriks GLCM pada sudut tertentu, yang mengukur tingkat ketidakteraturan atau kompleksitas tekstur dalam citra. Nilai entropi yang diperoleh kemudian disimpan dalam list yang sesuai dengan sudutnya, yaitu `entropy0`, `entropy45`, `entropy90`, dan `entropy135`. Proses ini diulangi untuk seluruh citra agar menghasilkan kumpulan fitur entropi lengkap yang siap digunakan dalam analisis atau pemodelan klasifikasi. Bagian kode yang dikomentari sebelumnya menunjukkan prosedur serupa yang dijalankan pada data awal (`data`) sebelum preprocessing dilakukan."
   ]
  },
  {
   "cell_type": "markdown",
   "metadata": {},
   "source": [
    "#### Ekstraksi Fitur Angular Second Moment (ASM) dari GLCM"
   ]
  },
  {
   "cell_type": "code",
   "execution_count": null,
   "metadata": {},
   "outputs": [],
   "source": [
    "for i in range(len(dataPreprocessed)):\n",
    "    A0 = ASM(Derajat0[i])\n",
    "    A45 = ASM(Derajat45[i])\n",
    "    A90 = ASM(Derajat90[i])\n",
    "    A135 = ASM(Derajat135[i])\n",
    "    ASM0.append(A0)\n",
    "    ASM45.append(A45)\n",
    "    ASM90.append(A90)\n",
    "    ASM135.append(A135)"
   ]
  },
  {
   "cell_type": "markdown",
   "metadata": {},
   "source": [
    "Kode di atas digunakan untuk mengekstraksi fitur ASM (Angular Second Moment) dari matriks Gray-Level Co-occurrence Matrix (GLCM) pada empat sudut yaitu 0°, 45°, 90°, dan 135°, untuk setiap citra yang sudah diproses dan disimpan dalam `dataPreprocessed`. Fungsi `ASM` dipanggil untuk menghitung nilai ASM pada masing-masing matriks GLCM yang sesuai sudutnya. ASM adalah ukuran dari uniformitas atau energi tekstur, yang menunjukkan seberapa homogen tekstur pada citra tersebut. Nilai-nilai ASM hasil ekstraksi kemudian dimasukkan ke dalam list terpisah sesuai dengan sudutnya, yaitu `ASM0`, `ASM45`, `ASM90`, dan `ASM135`. Proses ini dilakukan untuk semua citra dalam dataset agar menghasilkan fitur tekstur ASM lengkap yang dapat digunakan dalam analisis lebih lanjut atau untuk proses klasifikasi. Kode yang dikomentari menunjukkan metode serupa yang dijalankan pada data asli sebelum dilakukan preprocessing."
   ]
  },
  {
   "cell_type": "markdown",
   "metadata": {},
   "source": [
    "#### Ekstraksi Fitur Energi dari GLCM"
   ]
  },
  {
   "cell_type": "code",
   "execution_count": null,
   "metadata": {},
   "outputs": [],
   "source": [
    "for i in range(len(dataPreprocessed)):\n",
    "    ER0 = energy(Derajat0[i])\n",
    "    ER45 = energy(Derajat45[i])\n",
    "    ER90 = energy(Derajat90[i])\n",
    "    ER135 = energy(Derajat135[i])\n",
    "    energy0.append(ER0)\n",
    "    energy45.append(ER45)\n",
    "    energy90.append(ER90)\n",
    "    energy135.append(ER135)"
   ]
  },
  {
   "cell_type": "markdown",
   "metadata": {},
   "source": [
    "Kode di atas digunakan untuk mengekstraksi fitur energy dari matriks Gray-Level Co-occurrence Matrix (GLCM) pada empat sudut berbeda, yaitu 0°, 45°, 90°, dan 135°, untuk setiap citra yang telah diproses dan disimpan dalam `dataPreprocessed`. Fungsi `energy` memanggil perhitungan energi tekstur dari GLCM, yang mengukur konsentrasi atau kekompakan tekstur dalam citra, sehingga nilai energy yang lebih tinggi menunjukkan tekstur yang lebih seragam. Nilai energi yang dihitung untuk masing-masing sudut kemudian disimpan dalam list yang sesuai yaitu `energy0`, `energy45`, `energy90`, dan `energy135`. Proses ini diulang untuk semua citra dalam dataset agar menghasilkan fitur energi tekstur lengkap yang bisa digunakan untuk analisis lebih lanjut atau klasifikasi. Bagian kode yang dikomentari menunjukkan proses serupa yang diterapkan pada data asli sebelum dilakukan preprocessing."
   ]
  },
  {
   "cell_type": "markdown",
   "metadata": {},
   "source": [
    "### Menyimpan Hasil Ekstraksi ke CSV"
   ]
  },
  {
   "cell_type": "markdown",
   "metadata": {},
   "source": [
    "Kode di bawah berfungsi untuk membuat sebuah DataFrame menggunakan `pandas` yang berisi fitur-fitur tekstur GLCM hasil ekstraksi dari dataset gambar yang sudah melalui augmentasi. Setiap baris DataFrame berisi nama file gambar (`Filename`), label kelas gambar (`Label`),fitur-fitur tekstur dari matriks GLCM untuk empat arah sudut (0°, 45°, 90°, 135°), yaitu Kontras, Homogenitas, Dissimilarity, Entropy, ASM, Energy, dan Korelasi.\n",
    "Setelah DataFrame dibuat, data tersebut disimpan ke dalam file CSV dengan nama `hasil_ekstraksi_1.csv` tanpa menyertakan indeks baris (`index=False`). Kemudian file CSV ini dibaca kembali ke dalam variabel `hasilEkstrak` sebagai DataFrame, yang memungkinkan untuk ditampilkan, dianalisis, atau digunakan untuk proses machine learning selanjutnya."
   ]
  },
  {
   "cell_type": "code",
   "execution_count": null,
   "metadata": {},
   "outputs": [
    {
     "data": {
      "text/html": [
       "<div>\n",
       "<style scoped>\n",
       "    .dataframe tbody tr th:only-of-type {\n",
       "        vertical-align: middle;\n",
       "    }\n",
       "\n",
       "    .dataframe tbody tr th {\n",
       "        vertical-align: top;\n",
       "    }\n",
       "\n",
       "    .dataframe thead th {\n",
       "        text-align: right;\n",
       "    }\n",
       "</style>\n",
       "<table border=\"1\" class=\"dataframe\">\n",
       "  <thead>\n",
       "    <tr style=\"text-align: right;\">\n",
       "      <th></th>\n",
       "      <th>Filename</th>\n",
       "      <th>Label</th>\n",
       "      <th>Contrast0</th>\n",
       "      <th>Contrast45</th>\n",
       "      <th>Contrast90</th>\n",
       "      <th>Contrast135</th>\n",
       "      <th>Homogeneity0</th>\n",
       "      <th>Homogeneity45</th>\n",
       "      <th>Homogeneity90</th>\n",
       "      <th>Homogeneity135</th>\n",
       "      <th>...</th>\n",
       "      <th>ASM90</th>\n",
       "      <th>ASM135</th>\n",
       "      <th>Energy0</th>\n",
       "      <th>Energy45</th>\n",
       "      <th>Energy90</th>\n",
       "      <th>Energy135</th>\n",
       "      <th>Correlation0</th>\n",
       "      <th>Correlation45</th>\n",
       "      <th>Correlation90</th>\n",
       "      <th>Correlation135</th>\n",
       "    </tr>\n",
       "  </thead>\n",
       "  <tbody>\n",
       "    <tr>\n",
       "      <th>0</th>\n",
       "      <td>fung1_jpg.rf.0e0deb5ac87a43b13f544b6ca5f45f7e.jpg</td>\n",
       "      <td>Fungal_infections</td>\n",
       "      <td>11810.683594</td>\n",
       "      <td>15167.0</td>\n",
       "      <td>11357.460938</td>\n",
       "      <td>15926.0</td>\n",
       "      <td>0.818370</td>\n",
       "      <td>0.766755</td>\n",
       "      <td>0.825340</td>\n",
       "      <td>0.755083</td>\n",
       "      <td>...</td>\n",
       "      <td>0.390466</td>\n",
       "      <td>0.350871</td>\n",
       "      <td>0.621308</td>\n",
       "      <td>0.597460</td>\n",
       "      <td>0.624873</td>\n",
       "      <td>0.592344</td>\n",
       "      <td>0.609671</td>\n",
       "      <td>0.497523</td>\n",
       "      <td>0.624686</td>\n",
       "      <td>0.472373</td>\n",
       "    </tr>\n",
       "    <tr>\n",
       "      <th>1</th>\n",
       "      <td>fung1_jpg.rf.32912b425b9107cd2a7b90ac1c29590a.jpg</td>\n",
       "      <td>Fungal_infections</td>\n",
       "      <td>10437.070312</td>\n",
       "      <td>14857.0</td>\n",
       "      <td>10958.027344</td>\n",
       "      <td>13381.0</td>\n",
       "      <td>0.839494</td>\n",
       "      <td>0.771522</td>\n",
       "      <td>0.831482</td>\n",
       "      <td>0.794221</td>\n",
       "      <td>...</td>\n",
       "      <td>0.409906</td>\n",
       "      <td>0.386707</td>\n",
       "      <td>0.644442</td>\n",
       "      <td>0.611445</td>\n",
       "      <td>0.640239</td>\n",
       "      <td>0.621857</td>\n",
       "      <td>0.643273</td>\n",
       "      <td>0.492103</td>\n",
       "      <td>0.625488</td>\n",
       "      <td>0.542561</td>\n",
       "    </tr>\n",
       "    <tr>\n",
       "      <th>2</th>\n",
       "      <td>fung1_jpg.rf.dd65ca74677b2d37918ea70387ee8841.jpg</td>\n",
       "      <td>Fungal_infections</td>\n",
       "      <td>10472.929688</td>\n",
       "      <td>14412.0</td>\n",
       "      <td>10054.570312</td>\n",
       "      <td>13378.0</td>\n",
       "      <td>0.838942</td>\n",
       "      <td>0.778366</td>\n",
       "      <td>0.845376</td>\n",
       "      <td>0.794267</td>\n",
       "      <td>...</td>\n",
       "      <td>0.439011</td>\n",
       "      <td>0.408345</td>\n",
       "      <td>0.659248</td>\n",
       "      <td>0.631854</td>\n",
       "      <td>0.662579</td>\n",
       "      <td>0.639019</td>\n",
       "      <td>0.625679</td>\n",
       "      <td>0.482453</td>\n",
       "      <td>0.640632</td>\n",
       "      <td>0.519584</td>\n",
       "    </tr>\n",
       "    <tr>\n",
       "      <th>3</th>\n",
       "      <td>fung2_jpg.rf.2ac413733eea46de3cc94099a6f84950.jpg</td>\n",
       "      <td>Fungal_infections</td>\n",
       "      <td>11323.593750</td>\n",
       "      <td>15632.0</td>\n",
       "      <td>11841.562500</td>\n",
       "      <td>14570.0</td>\n",
       "      <td>0.825861</td>\n",
       "      <td>0.759604</td>\n",
       "      <td>0.817895</td>\n",
       "      <td>0.775936</td>\n",
       "      <td>...</td>\n",
       "      <td>0.364579</td>\n",
       "      <td>0.340424</td>\n",
       "      <td>0.608035</td>\n",
       "      <td>0.575914</td>\n",
       "      <td>0.603804</td>\n",
       "      <td>0.583458</td>\n",
       "      <td>0.642034</td>\n",
       "      <td>0.505060</td>\n",
       "      <td>0.625659</td>\n",
       "      <td>0.538685</td>\n",
       "    </tr>\n",
       "    <tr>\n",
       "      <th>4</th>\n",
       "      <td>fung2_jpg.rf.bfdd88f4e794d851c5ddeb630b1765b8.jpg</td>\n",
       "      <td>Fungal_infections</td>\n",
       "      <td>13765.019531</td>\n",
       "      <td>16751.0</td>\n",
       "      <td>12762.949219</td>\n",
       "      <td>18824.0</td>\n",
       "      <td>0.788315</td>\n",
       "      <td>0.742395</td>\n",
       "      <td>0.803725</td>\n",
       "      <td>0.710516</td>\n",
       "      <td>...</td>\n",
       "      <td>0.345093</td>\n",
       "      <td>0.296922</td>\n",
       "      <td>0.579581</td>\n",
       "      <td>0.557996</td>\n",
       "      <td>0.587446</td>\n",
       "      <td>0.544905</td>\n",
       "      <td>0.574247</td>\n",
       "      <td>0.482084</td>\n",
       "      <td>0.605198</td>\n",
       "      <td>0.417988</td>\n",
       "    </tr>\n",
       "    <tr>\n",
       "      <th>...</th>\n",
       "      <td>...</td>\n",
       "      <td>...</td>\n",
       "      <td>...</td>\n",
       "      <td>...</td>\n",
       "      <td>...</td>\n",
       "      <td>...</td>\n",
       "      <td>...</td>\n",
       "      <td>...</td>\n",
       "      <td>...</td>\n",
       "      <td>...</td>\n",
       "      <td>...</td>\n",
       "      <td>...</td>\n",
       "      <td>...</td>\n",
       "      <td>...</td>\n",
       "      <td>...</td>\n",
       "      <td>...</td>\n",
       "      <td>...</td>\n",
       "      <td>...</td>\n",
       "      <td>...</td>\n",
       "      <td>...</td>\n",
       "      <td>...</td>\n",
       "    </tr>\n",
       "    <tr>\n",
       "      <th>3805</th>\n",
       "      <td>pic9.jpg_rot20.jpg</td>\n",
       "      <td>Hypersensitivity_allergic_dermatosis</td>\n",
       "      <td>8788.535156</td>\n",
       "      <td>11417.0</td>\n",
       "      <td>7464.726562</td>\n",
       "      <td>10077.0</td>\n",
       "      <td>0.864846</td>\n",
       "      <td>0.824424</td>\n",
       "      <td>0.885204</td>\n",
       "      <td>0.845031</td>\n",
       "      <td>...</td>\n",
       "      <td>0.599033</td>\n",
       "      <td>0.570766</td>\n",
       "      <td>0.763898</td>\n",
       "      <td>0.746304</td>\n",
       "      <td>0.773972</td>\n",
       "      <td>0.755491</td>\n",
       "      <td>0.548833</td>\n",
       "      <td>0.411361</td>\n",
       "      <td>0.616506</td>\n",
       "      <td>0.480449</td>\n",
       "    </tr>\n",
       "    <tr>\n",
       "      <th>3806</th>\n",
       "      <td>pic9.jpg_rot25.jpg</td>\n",
       "      <td>Hypersensitivity_allergic_dermatosis</td>\n",
       "      <td>8702.871094</td>\n",
       "      <td>11339.0</td>\n",
       "      <td>7572.304688</td>\n",
       "      <td>9917.0</td>\n",
       "      <td>0.866163</td>\n",
       "      <td>0.825624</td>\n",
       "      <td>0.883550</td>\n",
       "      <td>0.847492</td>\n",
       "      <td>...</td>\n",
       "      <td>0.599824</td>\n",
       "      <td>0.574605</td>\n",
       "      <td>0.765939</td>\n",
       "      <td>0.748255</td>\n",
       "      <td>0.774483</td>\n",
       "      <td>0.758027</td>\n",
       "      <td>0.549988</td>\n",
       "      <td>0.411167</td>\n",
       "      <td>0.608281</td>\n",
       "      <td>0.485012</td>\n",
       "    </tr>\n",
       "    <tr>\n",
       "      <th>3807</th>\n",
       "      <td>pic9.jpg_rot30.jpg</td>\n",
       "      <td>Hypersensitivity_allergic_dermatosis</td>\n",
       "      <td>8950.898438</td>\n",
       "      <td>11877.0</td>\n",
       "      <td>8069.355469</td>\n",
       "      <td>10079.0</td>\n",
       "      <td>0.862349</td>\n",
       "      <td>0.817350</td>\n",
       "      <td>0.875906</td>\n",
       "      <td>0.845000</td>\n",
       "      <td>...</td>\n",
       "      <td>0.581792</td>\n",
       "      <td>0.560581</td>\n",
       "      <td>0.756108</td>\n",
       "      <td>0.736387</td>\n",
       "      <td>0.762753</td>\n",
       "      <td>0.748719</td>\n",
       "      <td>0.555379</td>\n",
       "      <td>0.407823</td>\n",
       "      <td>0.599058</td>\n",
       "      <td>0.497470</td>\n",
       "    </tr>\n",
       "    <tr>\n",
       "      <th>3808</th>\n",
       "      <td>pic9.jpg_flipH.jpg</td>\n",
       "      <td>Hypersensitivity_allergic_dermatosis</td>\n",
       "      <td>7767.539062</td>\n",
       "      <td>9234.0</td>\n",
       "      <td>5460.585938</td>\n",
       "      <td>9108.0</td>\n",
       "      <td>0.880547</td>\n",
       "      <td>0.857995</td>\n",
       "      <td>0.916025</td>\n",
       "      <td>0.859933</td>\n",
       "      <td>...</td>\n",
       "      <td>0.657658</td>\n",
       "      <td>0.618681</td>\n",
       "      <td>0.793716</td>\n",
       "      <td>0.785678</td>\n",
       "      <td>0.810961</td>\n",
       "      <td>0.786563</td>\n",
       "      <td>0.548937</td>\n",
       "      <td>0.455639</td>\n",
       "      <td>0.683604</td>\n",
       "      <td>0.463067</td>\n",
       "    </tr>\n",
       "    <tr>\n",
       "      <th>3809</th>\n",
       "      <td>pic9.jpg_flipV.jpg</td>\n",
       "      <td>Hypersensitivity_allergic_dermatosis</td>\n",
       "      <td>7767.539062</td>\n",
       "      <td>9234.0</td>\n",
       "      <td>5460.585938</td>\n",
       "      <td>9108.0</td>\n",
       "      <td>0.880547</td>\n",
       "      <td>0.857995</td>\n",
       "      <td>0.916025</td>\n",
       "      <td>0.859933</td>\n",
       "      <td>...</td>\n",
       "      <td>0.657658</td>\n",
       "      <td>0.618681</td>\n",
       "      <td>0.793716</td>\n",
       "      <td>0.785678</td>\n",
       "      <td>0.810961</td>\n",
       "      <td>0.786563</td>\n",
       "      <td>0.548937</td>\n",
       "      <td>0.455639</td>\n",
       "      <td>0.683604</td>\n",
       "      <td>0.463067</td>\n",
       "    </tr>\n",
       "  </tbody>\n",
       "</table>\n",
       "<p>3810 rows × 30 columns</p>\n",
       "</div>"
      ],
      "text/plain": [
       "                                               Filename  \\\n",
       "0     fung1_jpg.rf.0e0deb5ac87a43b13f544b6ca5f45f7e.jpg   \n",
       "1     fung1_jpg.rf.32912b425b9107cd2a7b90ac1c29590a.jpg   \n",
       "2     fung1_jpg.rf.dd65ca74677b2d37918ea70387ee8841.jpg   \n",
       "3     fung2_jpg.rf.2ac413733eea46de3cc94099a6f84950.jpg   \n",
       "4     fung2_jpg.rf.bfdd88f4e794d851c5ddeb630b1765b8.jpg   \n",
       "...                                                 ...   \n",
       "3805                                 pic9.jpg_rot20.jpg   \n",
       "3806                                 pic9.jpg_rot25.jpg   \n",
       "3807                                 pic9.jpg_rot30.jpg   \n",
       "3808                                 pic9.jpg_flipH.jpg   \n",
       "3809                                 pic9.jpg_flipV.jpg   \n",
       "\n",
       "                                     Label     Contrast0  Contrast45  \\\n",
       "0                        Fungal_infections  11810.683594     15167.0   \n",
       "1                        Fungal_infections  10437.070312     14857.0   \n",
       "2                        Fungal_infections  10472.929688     14412.0   \n",
       "3                        Fungal_infections  11323.593750     15632.0   \n",
       "4                        Fungal_infections  13765.019531     16751.0   \n",
       "...                                    ...           ...         ...   \n",
       "3805  Hypersensitivity_allergic_dermatosis   8788.535156     11417.0   \n",
       "3806  Hypersensitivity_allergic_dermatosis   8702.871094     11339.0   \n",
       "3807  Hypersensitivity_allergic_dermatosis   8950.898438     11877.0   \n",
       "3808  Hypersensitivity_allergic_dermatosis   7767.539062      9234.0   \n",
       "3809  Hypersensitivity_allergic_dermatosis   7767.539062      9234.0   \n",
       "\n",
       "        Contrast90  Contrast135  Homogeneity0  Homogeneity45  Homogeneity90  \\\n",
       "0     11357.460938      15926.0      0.818370       0.766755       0.825340   \n",
       "1     10958.027344      13381.0      0.839494       0.771522       0.831482   \n",
       "2     10054.570312      13378.0      0.838942       0.778366       0.845376   \n",
       "3     11841.562500      14570.0      0.825861       0.759604       0.817895   \n",
       "4     12762.949219      18824.0      0.788315       0.742395       0.803725   \n",
       "...            ...          ...           ...            ...            ...   \n",
       "3805   7464.726562      10077.0      0.864846       0.824424       0.885204   \n",
       "3806   7572.304688       9917.0      0.866163       0.825624       0.883550   \n",
       "3807   8069.355469      10079.0      0.862349       0.817350       0.875906   \n",
       "3808   5460.585938       9108.0      0.880547       0.857995       0.916025   \n",
       "3809   5460.585938       9108.0      0.880547       0.857995       0.916025   \n",
       "\n",
       "      Homogeneity135  ...     ASM90    ASM135   Energy0  Energy45  Energy90  \\\n",
       "0           0.755083  ...  0.390466  0.350871  0.621308  0.597460  0.624873   \n",
       "1           0.794221  ...  0.409906  0.386707  0.644442  0.611445  0.640239   \n",
       "2           0.794267  ...  0.439011  0.408345  0.659248  0.631854  0.662579   \n",
       "3           0.775936  ...  0.364579  0.340424  0.608035  0.575914  0.603804   \n",
       "4           0.710516  ...  0.345093  0.296922  0.579581  0.557996  0.587446   \n",
       "...              ...  ...       ...       ...       ...       ...       ...   \n",
       "3805        0.845031  ...  0.599033  0.570766  0.763898  0.746304  0.773972   \n",
       "3806        0.847492  ...  0.599824  0.574605  0.765939  0.748255  0.774483   \n",
       "3807        0.845000  ...  0.581792  0.560581  0.756108  0.736387  0.762753   \n",
       "3808        0.859933  ...  0.657658  0.618681  0.793716  0.785678  0.810961   \n",
       "3809        0.859933  ...  0.657658  0.618681  0.793716  0.785678  0.810961   \n",
       "\n",
       "      Energy135  Correlation0  Correlation45  Correlation90  Correlation135  \n",
       "0      0.592344      0.609671       0.497523       0.624686        0.472373  \n",
       "1      0.621857      0.643273       0.492103       0.625488        0.542561  \n",
       "2      0.639019      0.625679       0.482453       0.640632        0.519584  \n",
       "3      0.583458      0.642034       0.505060       0.625659        0.538685  \n",
       "4      0.544905      0.574247       0.482084       0.605198        0.417988  \n",
       "...         ...           ...            ...            ...             ...  \n",
       "3805   0.755491      0.548833       0.411361       0.616506        0.480449  \n",
       "3806   0.758027      0.549988       0.411167       0.608281        0.485012  \n",
       "3807   0.748719      0.555379       0.407823       0.599058        0.497470  \n",
       "3808   0.786563      0.548937       0.455639       0.683604        0.463067  \n",
       "3809   0.786563      0.548937       0.455639       0.683604        0.463067  \n",
       "\n",
       "[3810 rows x 30 columns]"
      ]
     },
     "execution_count": 26,
     "metadata": {},
     "output_type": "execute_result"
    }
   ],
   "source": [
    "dataTable = {'Filename': file_name_augmented, 'Label': labels_augmented, \n",
    "        'Contrast0': Kontras0, 'Contrast45': Kontras45, 'Contrast90': Kontras90, 'Contrast135': Kontras135,\n",
    "        'Homogeneity0': homogenity0, 'Homogeneity45': homogenity45, 'Homogeneity90': homogenity90, 'Homogeneity135': homogenity135,\n",
    "        'Dissimilarity0': dissimilarity0, 'Dissimilarity45': dissimilarity45, 'Dissimilarity90': dissimilarity90, 'Dissimilarity135': dissimilarity135,\n",
    "        'Entropy0': entropy0, 'Entropy45': entropy45, 'Entropy90': entropy90, 'Entropy135': entropy135,\n",
    "        'ASM0': ASM0, 'ASM45': ASM45, 'ASM90': ASM90, 'ASM135': ASM135,\n",
    "        'Energy0': energy0, 'Energy45': energy45, 'Energy90': energy90, 'Energy135': energy135,\n",
    "        'Correlation0': correlation0, 'Correlation45': correlation45, 'Correlation90': correlation90, 'Correlation135': correlation135,\n",
    "        }\n",
    "df = pd.DataFrame(dataTable)\n",
    "df.to_csv('hasil_ekstraksi_1.csv', index=False)\n",
    "\n",
    "hasilEkstrak = pd.read_csv('hasil_ekstraksi_1.csv')\n",
    "hasilEkstrak\n"
   ]
  },
  {
   "cell_type": "markdown",
   "metadata": {},
   "source": [
    "## Pemilihan Fitur Berbasis Korelasi"
   ]
  },
  {
   "cell_type": "markdown",
   "metadata": {},
   "source": [
    "Kode di bawah bertujuan untuk melakukan seleksi fitur berdasarkan korelasi antar fitur dalam dataset hasil ekstraksi. Pertama, dihitung matriks korelasi dari fitur-fitur yang ada (tidak termasuk kolom label dan nama file). Kemudian, kode menyaring fitur-fitur yang memiliki korelasi sangat tinggi (absolut lebih besar atau sama dengan threshold 0.95) agar tidak terjadi redundansi fitur dalam data. Jika dua fitur memiliki korelasi di atas threshold, salah satu fitur akan diabaikan (ditandai `False`). Setelah proses penyaringan, fitur yang tersisa dipilih dan disimpan ke variabel `x_new`. Label asli (`y`) tetap diambil dari kolom `Label`. Terakhir, matriks korelasi dari fitur terpilih divisualisasikan menggunakan heatmap dengan warna biru untuk memudahkan interpretasi hubungan antar fitur yang tersisa."
   ]
  },
  {
   "cell_type": "code",
   "execution_count": null,
   "metadata": {},
   "outputs": [
    {
     "data": {
      "text/plain": [
       "<Axes: >"
      ]
     },
     "execution_count": 27,
     "metadata": {},
     "output_type": "execute_result"
    },
    {
     "data": {
      "image/png": "[encoded data removed]",
      "text/plain": [
       "<Figure size 1700x1700 with 2 Axes>"
      ]
     },
     "metadata": {},
     "output_type": "display_data"
    }
   ],
   "source": [
    "correlation = hasilEkstrak.drop(columns=['Label','Filename']).corr()\n",
    "\n",
    "threshold = 0.95\n",
    "selectionFeature = []\n",
    "columns = np.full((correlation.shape[0],), True, dtype=bool)\n",
    "for i in range(correlation.shape[0]):\n",
    "\tfor j in range(i+1, correlation.shape[0]):\n",
    "\t\tif correlation.iloc[i,j] >= threshold:\n",
    "\t\t\tif columns[j]:\n",
    "\t\t\t\tcolumns[j] = False\n",
    "select = hasilEkstrak.drop(columns=['Label','Filename']).columns[columns]\n",
    "x_new = hasilEkstrak[select]\n",
    "x_new\n",
    "y = hasilEkstrak['Label']\n",
    "plt.figure(figsize=(17,17))\n",
    "sns.heatmap(x_new.corr(), annot=True, cmap='Blues', fmt=\".2f\")\n"
   ]
  },
  {
   "cell_type": "markdown",
   "metadata": {},
   "source": [
    "## Pembagian Data untuk Pelatihan dan Pengujian"
   ]
  },
  {
   "cell_type": "code",
   "execution_count": null,
   "metadata": {},
   "outputs": [
    {
     "name": "stdout",
     "output_type": "stream",
     "text": [
      "(3048, 10)\n",
      "(762, 10)\n"
     ]
    }
   ],
   "source": [
    "X_train, X_test, y_train, y_test = train_test_split(x_new, y, test_size=0.2, random_state=42)\n",
    "print(X_train.shape)\n",
    "print(X_test.shape)"
   ]
  },
  {
   "cell_type": "markdown",
   "metadata": {},
   "source": [
    "Kode di atas digunakan untuk membagi dataset menjadi data pelatihan (*training*) dan data pengujian (*testing*). Variabel `x_new` berisi fitur-fitur yang telah diseleksi (tanpa kolom 'Label' dan 'Filename'), sedangkan `y` berisi label target klasifikasi. Fungsi `train_test_split` dari `sklearn.model_selection` digunakan dengan parameter `test_size=0.2`, yang berarti 20% data dialokasikan untuk pengujian, sementara 80% sisanya digunakan untuk pelatihan model. Parameter `random_state=42` digunakan agar pembagian data bersifat deterministik dan dapat direproduksi. Hasil pembagian ini disimpan ke dalam `X_train`, `X_test`, `y_train`, dan `y_test`, lalu dicetak ukuran masing-masing data agar pengguna mengetahui jumlah sampel pada set pelatihan dan pengujian. Pembagian data ini penting untuk mengevaluasi kinerja model secara adil terhadap data yang belum pernah dilihat sebelumnya."
   ]
  },
  {
   "cell_type": "markdown",
   "metadata": {},
   "source": [
    "## Normalisasi Data Fitur"
   ]
  },
  {
   "cell_type": "code",
   "execution_count": null,
   "metadata": {},
   "outputs": [],
   "source": [
    "def normalize_data(data):\n",
    "    mean = np.mean(data, axis=0)\n",
    "    std = np.std(data, axis=0)\n",
    "    normalized_data = (data - mean) / std\n",
    "    return normalized_data\n",
    "X_train = normalize_data(X_train)\n",
    "X_test = normalize_data(X_test)"
   ]
  },
  {
   "cell_type": "markdown",
   "metadata": {},
   "source": [
    "Kode di atas mendefinisikan fungsi `normalize_data` yang menghitung rata-rata (`mean`) dan standar deviasi (`std`) dari data, lalu menormalkan data dengan rumus `(data - mean) / std`. Setelah itu, fungsi ini dipanggil untuk menormalkan `X_train` dan `X_test` secara terpisah."
   ]
  },
  {
   "cell_type": "markdown",
   "metadata": {},
   "source": [
    "## Pemodelan"
   ]
  },
  {
   "cell_type": "markdown",
   "metadata": {},
   "source": [
    "### Pelaporan Klasifikasi dan Inisialisasi Model"
   ]
  },
  {
   "cell_type": "code",
   "execution_count": null,
   "metadata": {},
   "outputs": [],
   "source": [
    "def generateClassificationReport(y_true, y_pred):\n",
    "\tprint(classification_report(y_true, y_pred))\n",
    "\tprint(confusion_matrix(y_true, y_pred))\n",
    "\tprint('Accuracy:', accuracy_score(y_true, y_pred))\n",
    "\n",
    "rf = RandomForestClassifier(n_estimators=5, random_state=42)\n",
    "svm = SVC(kernel='rbf', random_state=42)\n",
    "knn = KNeighborsClassifier(n_neighbors=5)"
   ]
  },
  {
   "cell_type": "markdown",
   "metadata": {},
   "source": [
    "Kode di atas mendefinisikan fungsi `generateClassificationReport` yang digunakan untuk mengevaluasi performa model klasifikasi dengan menampilkan metrik yang lengkap, yaitu precision, recall, f1-score, confusion matrix, serta nilai akurasi dari hasil prediksi. Fungsi ini penting untuk mengetahui sejauh mana model mampu mengenali pola pada data dan memisahkan antar kelas dengan tepat. Dalam kode ini juga didefinisikan tiga jenis algoritma klasifikasi, yaitu Random Forest (`rf`), Support Vector Machine (`svm`), dan K-Nearest Neighbors (`knn`). Random Forest bekerja dengan membangun beberapa pohon keputusan (pada kasus ini sebanyak lima pohon) dan menggabungkan hasilnya untuk membuat prediksi yang lebih stabil. SVM menggunakan kernel radial basis function (RBF) yang efektif untuk memisahkan data yang tidak linear. Sementara itu, KNN mengklasifikasikan data berdasarkan lima tetangga terdekat dalam ruang fitur. Ketiga model ini dapat dilatih menggunakan data hasil ekstraksi fitur, kemudian dievaluasi dengan fungsi `generateClassificationReport` untuk menilai kinerjanya masing-masing dalam menyelesaikan tugas klasifikasi."
   ]
  },
  {
   "cell_type": "markdown",
   "metadata": {},
   "source": [
    "### Pelatihan dan Evaluasi Model Random Forest Classifier"
   ]
  },
  {
   "cell_type": "markdown",
   "metadata": {},
   "source": [
    "Kode di bawah digunakan untuk melatih model Random Forest dan mengevaluasi kinerjanya terhadap data pelatihan (training set) maupun data pengujian (testing set). Pertama-tama, model Random Forest dilatih menggunakan data `X_train` dan `y_train` melalui metode `fit()`. Setelah pelatihan selesai, model digunakan untuk memprediksi label pada data pelatihan, lalu hasil prediksi tersebut dibandingkan dengan label sebenarnya menggunakan fungsi `generateClassificationReport`. Evaluasi ini berguna untuk melihat apakah model mengalami overfitting, yaitu ketika performanya sangat baik pada data pelatihan namun buruk pada data pengujian. Kemudian, model juga diuji pada data pengujian (`X_test`) untuk melihat seberapa baik kemampuan generalisasi model terhadap data yang belum pernah dilihat sebelumnya. Dengan membandingkan hasil pada kedua data tersebut, kita bisa menilai seberapa efektif dan andal model Random Forest dalam mengklasifikasikan data berdasarkan fitur yang telah diekstraksi."
   ]
  },
  {
   "cell_type": "code",
   "execution_count": null,
   "metadata": {},
   "outputs": [
    {
     "name": "stdout",
     "output_type": "stream",
     "text": [
      "------Training Set------\n",
      "                                      precision    recall  f1-score   support\n",
      "\n",
      "                   Fungal_infections       0.96      0.98      0.97       863\n",
      "                             Healthy       0.98      0.98      0.98      1108\n",
      "Hypersensitivity_allergic_dermatosis       0.98      0.97      0.97      1077\n",
      "\n",
      "                            accuracy                           0.97      3048\n",
      "                           macro avg       0.97      0.97      0.97      3048\n",
      "                        weighted avg       0.97      0.97      0.97      3048\n",
      "\n",
      "[[ 844    7   12]\n",
      " [  13 1084   11]\n",
      " [  25   11 1041]]\n",
      "Accuracy: 0.9740813648293963\n",
      "\n",
      "------Testing Set------\n",
      "                                      precision    recall  f1-score   support\n",
      "\n",
      "                   Fungal_infections       0.69      0.68      0.68       232\n",
      "                             Healthy       0.75      0.82      0.78       272\n",
      "Hypersensitivity_allergic_dermatosis       0.72      0.66      0.69       258\n",
      "\n",
      "                            accuracy                           0.72       762\n",
      "                           macro avg       0.72      0.72      0.72       762\n",
      "                        weighted avg       0.72      0.72      0.72       762\n",
      "\n",
      "[[157  36  39]\n",
      " [ 21 223  28]\n",
      " [ 49  38 171]]\n",
      "Accuracy: 0.7230971128608924\n"
     ]
    }
   ],
   "source": [
    "# Train Random Forest Classifier\n",
    "rf.fit(X_train, y_train)\n",
    "\n",
    "# Make predictions and evaluate the model with the training set\n",
    "print(\"------Training Set------\")\n",
    "y_pred = rf.predict(X_train)\n",
    "generateClassificationReport( y_train, y_pred)\n",
    "\n",
    "# Make predictions and evaluate the model with the testing set\n",
    "print(\"\\n------Testing Set------\")\n",
    "y_pred = rf.predict(X_test)\n",
    "generateClassificationReport( y_test, y_pred)"
   ]
  },
  {
   "cell_type": "markdown",
   "metadata": {},
   "source": [
    "### Pelatihan dan Evaluasi Model SVM Classifier"
   ]
  },
  {
   "cell_type": "markdown",
   "metadata": {},
   "source": [
    "Kode di bawah berfungsi untuk melatih model Support Vector Machine (SVM) dengan kernel radial basis function (RBF) menggunakan data pelatihan `X_train` dan `y_train`. Setelah model SVM dilatih menggunakan fungsi `fit()`, model digunakan untuk memprediksi label dari data pelatihan terlebih dahulu, kemudian hasil prediksinya dibandingkan dengan label aslinya untuk mengevaluasi kinerja model pada data yang sudah dikenalnya. Evaluasi ini dilakukan menggunakan fungsi `generateClassificationReport` yang menampilkan metrik evaluasi seperti precision, recall, f1-score, confusion matrix, dan akurasi. Selanjutnya, model juga digunakan untuk memprediksi label pada data pengujian (`X_test`) guna menilai performa generalisasi model terhadap data baru. Perbandingan hasil pada data pelatihan dan pengujian membantu mengidentifikasi apakah model SVM mengalami overfitting atau justru mampu mengklasifikasikan data secara seimbang dan andal."
   ]
  },
  {
   "cell_type": "code",
   "execution_count": null,
   "metadata": {},
   "outputs": [
    {
     "name": "stdout",
     "output_type": "stream",
     "text": [
      "\n",
      "------Training Set------\n",
      "                                      precision    recall  f1-score   support\n",
      "\n",
      "                   Fungal_infections       0.54      0.63      0.58       863\n",
      "                             Healthy       0.70      0.71      0.71      1108\n",
      "Hypersensitivity_allergic_dermatosis       0.54      0.46      0.50      1077\n",
      "\n",
      "                            accuracy                           0.60      3048\n",
      "                           macro avg       0.60      0.60      0.60      3048\n",
      "                        weighted avg       0.60      0.60      0.60      3048\n",
      "\n",
      "[[546 124 193]\n",
      " [ 93 790 225]\n",
      " [367 213 497]]\n",
      "Accuracy: 0.6013779527559056\n",
      "\n",
      "------Testing Set------\n",
      "                                      precision    recall  f1-score   support\n",
      "\n",
      "                   Fungal_infections       0.58      0.64      0.61       232\n",
      "                             Healthy       0.69      0.73      0.71       272\n",
      "Hypersensitivity_allergic_dermatosis       0.55      0.47      0.50       258\n",
      "\n",
      "                            accuracy                           0.61       762\n",
      "                           macro avg       0.61      0.61      0.61       762\n",
      "                        weighted avg       0.61      0.61      0.61       762\n",
      "\n",
      "[[148  34  50]\n",
      " [ 25 198  49]\n",
      " [ 82  56 120]]\n",
      "Accuracy: 0.6115485564304461\n"
     ]
    }
   ],
   "source": [
    "# Train SVM Classifier\n",
    "svm.fit(X_train, y_train)\n",
    "\n",
    "# Make predictions and evaluate the model with the training set\n",
    "print(\"\\n------Training Set------\")\n",
    "y_pred = svm.predict(X_train)\n",
    "generateClassificationReport( y_train, y_pred)\n",
    "\n",
    "# Make predictions and evaluate the model with the testing set\n",
    "print(\"\\n------Testing Set------\")\n",
    "y_pred = svm.predict(X_test)\n",
    "generateClassificationReport( y_test, y_pred)"
   ]
  },
  {
   "cell_type": "markdown",
   "metadata": {},
   "source": [
    "### Pelatihan dan Evaluasi Model KNN Classifier"
   ]
  },
  {
   "cell_type": "markdown",
   "metadata": {},
   "source": [
    "Kode di bawah digunakan untuk melatih model klasifikasi K-Nearest Neighbors (KNN) dengan jumlah tetangga `k = 5`, menggunakan data pelatihan `X_train` dan label `y_train`. Setelah model dilatih menggunakan fungsi `fit()`, model digunakan untuk memprediksi label dari data pelatihan (`X_train`) dan hasilnya dibandingkan dengan label aslinya (`y_train`) guna mengevaluasi kinerja model terhadap data yang sudah dikenalnya. Evaluasi dilakukan menggunakan fungsi `generateClassificationReport`, yang menampilkan metrik klasifikasi seperti precision, recall, f1-score, confusion matrix, dan akurasi. Kemudian, model KNN juga diuji pada data pengujian (`X_test`) untuk melihat sejauh mana model mampu menggeneralisasi pola dari data pelatihan ke data baru. Perbandingan hasil evaluasi antara data pelatihan dan pengujian memberikan gambaran apakah model KNN overfitting, underfitting, atau memiliki performa klasifikasi yang seimbang."
   ]
  },
  {
   "cell_type": "code",
   "execution_count": null,
   "metadata": {},
   "outputs": [
    {
     "name": "stdout",
     "output_type": "stream",
     "text": [
      "\n",
      "------Training Set------\n",
      "                                      precision    recall  f1-score   support\n",
      "\n",
      "                   Fungal_infections       0.86      0.89      0.87       863\n",
      "                             Healthy       0.92      0.93      0.93      1108\n",
      "Hypersensitivity_allergic_dermatosis       0.90      0.87      0.89      1077\n",
      "\n",
      "                            accuracy                           0.90      3048\n",
      "                           macro avg       0.89      0.90      0.90      3048\n",
      "                        weighted avg       0.90      0.90      0.90      3048\n",
      "\n",
      "[[ 764   34   65]\n",
      " [  38 1034   36]\n",
      " [  87   54  936]]\n",
      "Accuracy: 0.8969816272965879\n",
      "\n",
      "------Testing Set------\n",
      "                                      precision    recall  f1-score   support\n",
      "\n",
      "                   Fungal_infections       0.78      0.77      0.77       232\n",
      "                             Healthy       0.84      0.84      0.84       272\n",
      "Hypersensitivity_allergic_dermatosis       0.79      0.80      0.79       258\n",
      "\n",
      "                            accuracy                           0.80       762\n",
      "                           macro avg       0.80      0.80      0.80       762\n",
      "                        weighted avg       0.80      0.80      0.80       762\n",
      "\n",
      "[[178  19  35]\n",
      " [ 23 228  21]\n",
      " [ 28  24 206]]\n",
      "Accuracy: 0.8031496062992126\n"
     ]
    }
   ],
   "source": [
    "# Train KNN Classifier\n",
    "knn.fit(X_train, y_train)\n",
    "\n",
    "# Make predictions and evaluate the model with the training set\n",
    "print(\"\\n------Training Set------\")\n",
    "y_pred = knn.predict(X_train)\n",
    "generateClassificationReport( y_train, y_pred)\n",
    "\n",
    "# Make predictions and evaluate the model with the testing set\n",
    "print(\"\\n------Testing Set------\")\n",
    "y_pred = knn.predict(X_test)\n",
    "generateClassificationReport( y_test, y_pred)\n"
   ]
  },
  {
   "cell_type": "markdown",
   "metadata": {},
   "source": [
    "## Visualisasi Matriks Kebingungan"
   ]
  },
  {
   "cell_type": "markdown",
   "metadata": {},
   "source": [
    "Kode di bawah digunakan untuk menampilkan confusion matrix dari hasil prediksi model klasifikasi Random Forest, SVM, dan KNN terhadap data pengujian (`X_test`). Fungsi `plot_confusion_matrix()` menerima tiga argumen: `y_true` (label asli), `y_pred` (label hasil prediksi), dan `title` (judul grafik). Di dalam fungsi tersebut, confusion matrix dihitung menggunakan `confusion_matrix()` dan divisualisasikan menggunakan `ConfusionMatrixDisplay`. Warna biru digunakan untuk memperjelas intensitas jumlah prediksi benar dan salah pada tiap kelas. Fungsi ini kemudian dipanggil tiga kali, masing-masing untuk menampilkan confusion matrix dari model Random Forest, SVM, dan KNN, dengan tujuan untuk memudahkan analisis visual terhadap performa klasifikasi masing-masing model—terutama dalam hal kesalahan klasifikasi antar kelas."
   ]
  },
  {
   "cell_type": "code",
   "execution_count": null,
   "metadata": {},
   "outputs": [
    {
     "data": {
      "image/png": "[encoded data removed]",
      "text/plain": [
       "<Figure size 640x480 with 2 Axes>"
      ]
     },
     "metadata": {},
     "output_type": "display_data"
    },
    {
     "data": {
      "image/png": "[encoded data removed]",
      "text/plain": [
       "<Figure size 640x480 with 2 Axes>"
      ]
     },
     "metadata": {},
     "output_type": "display_data"
    },
    {
     "data": {
      "image/png": "[encoded data removed]",
      "text/plain": [
       "<Figure size 640x480 with 2 Axes>"
      ]
     },
     "metadata": {},
     "output_type": "display_data"
    }
   ],
   "source": [
    "def plot_confusion_matrix(y_true, y_pred, title):\n",
    "    cm = confusion_matrix(y_true, y_pred)\n",
    "    disp = ConfusionMatrixDisplay(confusion_matrix=cm)\n",
    "    disp.plot(cmap=plt.cm.Blues)\n",
    "    plt.title(title)\n",
    "    plt.show()\n",
    "\n",
    "# Plot confusion matrix for Random Forest\n",
    "plot_confusion_matrix(y_test, rf.predict(X_test), \"Random Forest Confusion Matrix\")\n",
    "# Plot confusion matrix for SVM\n",
    "plot_confusion_matrix(y_test, svm.predict(X_test), \"SVM Confusion Matrix\")\n",
    "# Plot confusion matrix for KNN\n",
    "plot_confusion_matrix(y_test, knn.predict(X_test), \"KNN Confusion Matrix\")"
   ]
  }
 ],
 "metadata": {
  "kernelspec": {
   "display_name": "Python 3",
   "language": "python",
   "name": "python3"
  },
  "language_info": {
   "codemirror_mode": {
    "name": "ipython",
    "version": 3
   },
   "file_extension": ".py",
   "mimetype": "text/x-python",
   "name": "python",
   "nbconvert_exporter": "python",
   "pygments_lexer": "ipython3",
   "version": "3.13.2"
  }
 },
 "nbformat": 4,
 "nbformat_minor": 2
}
